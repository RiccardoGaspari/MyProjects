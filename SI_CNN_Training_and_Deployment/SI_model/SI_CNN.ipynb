{
 "cells": [
  {
   "cell_type": "code",
   "execution_count": 1,
   "id": "24017c19",
   "metadata": {},
   "outputs": [
    {
     "name": "stdout",
     "output_type": "stream",
     "text": [
      "\n",
      "PyTorch version in use: 2.4.1+cu118 \n",
      "cuda avail:  True\n"
     ]
    },
    {
     "name": "stderr",
     "output_type": "stream",
     "text": [
      "C:\\Users\\ricig\\AppData\\Local\\Temp\\ipykernel_20224\\1903050231.py:23: TqdmExperimentalWarning: Using `tqdm.autonotebook.tqdm` in notebook mode. Use `tqdm.tqdm` instead to force console mode (e.g. in jupyter console)\n",
      "  from tqdm.autonotebook import tqdm\n"
     ]
    },
    {
     "name": "stdout",
     "output_type": "stream",
     "text": [
      "Device: cuda\n"
     ]
    }
   ],
   "source": [
    "#basic\n",
    "import os\n",
    "from os.path import join\n",
    "import numpy as np\n",
    "import matplotlib.pyplot as plt\n",
    "import pandas as pd\n",
    "\n",
    "#torch\n",
    "import torch; print('\\nPyTorch version in use:', torch.__version__, '\\ncuda avail: ', torch.cuda.is_available())\n",
    "import torch.nn as nn\n",
    "import torch.nn.functional as F\n",
    "import torch.optim as optim\n",
    "from torch.utils.data import DataLoader, Dataset, random_split\n",
    "from torchinfo import summary\n",
    "import torch.nn as nn\n",
    "import torch.optim as optim\n",
    "\n",
    "#torchvision\n",
    "import torchvision\n",
    "from torchvision import transforms, datasets\n",
    "\n",
    "from copy import deepcopy\n",
    "from tqdm.autonotebook import tqdm\n",
    "from sklearn.metrics import precision_score, recall_score, f1_score, accuracy_score\n",
    "import inspect\n",
    "import shutil\n",
    "import time\n",
    "\n",
    "device = torch.device('cuda' if torch.cuda.is_available() else 'cpu')\n",
    "print('Device: %s' % device)"
   ]
  },
  {
   "cell_type": "code",
   "execution_count": null,
   "id": "1288958d",
   "metadata": {
    "scrolled": true
   },
   "outputs": [],
   "source": [
    "file_path = \"./Dataset_Truss_SysId_Gap9/sysid/\"\n",
    "file_pattern = \"anomaly_{}.csv\"\n",
    "\n",
    "# Initialize an empty list to store DataFrames\n",
    "df_list = []\n",
    "\n",
    "# Loop through the files and read them into DataFrames\n",
    "for i in range(1, 10):\n",
    "    file_name = file_path + file_pattern.format(i)\n",
    "    df = pd.read_csv(file_name, header=None, skiprows=1)\n",
    "    df_list.append(df)\n",
    "\n",
    "# Concatenate all DataFrames into one\n",
    "combined_df = pd.concat(df_list, ignore_index=True)\n",
    "\n",
    "# Display the first few rows of the combined DataFrame\n",
    "print(combined_df)\n"
   ]
  },
  {
   "cell_type": "code",
   "execution_count": null,
   "id": "3061ee62",
   "metadata": {},
   "outputs": [],
   "source": [
    "# Convert DataFrame to a NumPy array\n",
    "data_array = combined_df.to_numpy()\n",
    "\n",
    "# Flatten the array\n",
    "flattened_array = data_array.flatten()\n",
    "\n",
    "num_elements = len(flattened_array)\n",
    "num_1x512_arrays = num_elements // 512\n",
    "\n",
    "# Only include full 1x512 arrays\n",
    "anomaly_reshaped_array = flattened_array[:num_1x512_arrays * 512].reshape(-1, 512)\n",
    "# Print the shape to verify\n",
    "print(anomaly_reshaped_array.shape)\n",
    "print(anomaly_reshaped_array)\n"
   ]
  },
  {
   "cell_type": "code",
   "execution_count": 2,
   "id": "3ba8435d",
   "metadata": {},
   "outputs": [
    {
     "name": "stdout",
     "output_type": "stream",
     "text": [
      "Reshaped Array 1 shape: (7347, 512)\n",
      "Reshaped Array 2 shape: (7960, 512)\n",
      "Reshaped Array 3 shape: (7960, 512)\n",
      "Reshaped Array 4 shape: (7347, 512)\n",
      "Reshaped Array 5 shape: (7347, 512)\n",
      "Reshaped Array 6 shape: (7960, 512)\n",
      "Reshaped Array 7 shape: (7960, 512)\n",
      "Reshaped Array 8 shape: (7960, 512)\n",
      "Reshaped Array 9 shape: (8578, 512)\n",
      "\n",
      "Example Reshaped Array 1:\n",
      "[[ 0.33508414  0.33690926  0.33443159 ... -0.73923749 -0.14759994\n",
      "   0.3267535 ]\n",
      " [ 0.44003785  0.25778097  0.18253256 ... -1.33947003 -1.2317096\n",
      "  -0.93552095]\n",
      " [-0.58727443 -0.42815647 -0.59677106 ...  1.2138288   1.1254679\n",
      "   0.94096661]\n",
      " ...\n",
      " [-0.32667741 -0.28957447 -0.30746761 ...  0.15907706 -0.23413724\n",
      "  -0.63268739]\n",
      " [-0.91950518 -1.08142853 -1.12778628 ...  0.80925584  0.88106281\n",
      "   0.97820562]\n",
      " [ 0.99122626  0.8565414   0.65228313 ... -0.54779613 -0.43893901\n",
      "  -0.25279745]]\n"
     ]
    }
   ],
   "source": [
    "file_path = \"./Dataset_Truss_SysId_Gap9/sysid/\"\n",
    "file_pattern = \"anomaly_{}.csv\"\n",
    "\n",
    "# Initialize an empty dictionary to store DataFrames\n",
    "df_dict = {}\n",
    "\n",
    "# Initialize an empty dictionary to store reshaped arrays\n",
    "reshaped_arrays_dict = {}\n",
    "\n",
    "# Loop through the files and read them into DataFrames\n",
    "for i in range(1, 10):\n",
    "    file_name = file_path + file_pattern.format(i)\n",
    "    df = pd.read_csv(file_name, header=None, skiprows=1)\n",
    "    df_dict[i] = df  # Save each DataFrame in the dictionary with the file number as the key\n",
    "    \n",
    "    # Convert DataFrame to a NumPy array\n",
    "    data_array = df.to_numpy()\n",
    "    \n",
    "    # Flatten the array\n",
    "    flattened_array = data_array.flatten()\n",
    "    \n",
    "    num_elements = len(flattened_array)\n",
    "    num_1x512_arrays = num_elements // 512\n",
    "    \n",
    "    # Only include full 1x512 arrays\n",
    "    reshaped_array = flattened_array[:num_1x512_arrays * 512].reshape(-1, 512)\n",
    "    \n",
    "    # Store the reshaped array in the dictionary\n",
    "    reshaped_arrays_dict[i] = reshaped_array\n",
    "\n",
    "# Example: Display the shape of the reshaped arrays to verify\n",
    "for key, array in reshaped_arrays_dict.items():\n",
    "    print(f\"Reshaped Array {key} shape: {array.shape}\")\n",
    "\n",
    "# Example: Access and display a specific reshaped array\n",
    "example_reshaped_array = reshaped_arrays_dict[1]\n",
    "print(f\"\\nExample Reshaped Array 1:\\n{example_reshaped_array}\")\n"
   ]
  },
  {
   "cell_type": "code",
   "execution_count": 3,
   "id": "f24029cc",
   "metadata": {
    "scrolled": true
   },
   "outputs": [
    {
     "name": "stdout",
     "output_type": "stream",
     "text": [
      "           0         1         2         3         4         5         6     \\\n",
      "0      5.392956  5.428917  5.376329  5.340400  5.233158  5.110609  5.026137   \n",
      "1      1.488341  0.021150 -1.420335 -2.491002 -2.847655 -2.682484 -2.473964   \n",
      "2     -2.609304 -2.636410 -2.082529 -1.049911  0.088752  1.126209  2.073311   \n",
      "3      2.331606  2.118372  1.985599  1.806006  1.343558  0.744766  0.291994   \n",
      "4     -3.814505 -3.476510 -3.099672 -2.688232 -2.090873 -1.348042 -0.635731   \n",
      "...         ...       ...       ...       ...       ...       ...       ...   \n",
      "17135 -0.037920 -0.054897 -0.034926 -0.056259 -0.132441 -0.128852 -0.015717   \n",
      "17136  0.251398  0.184543  0.145010  0.138204  0.088129 -0.054267 -0.178553   \n",
      "17137  0.251097  0.122191 -0.065286 -0.223846 -0.233973 -0.124868 -0.032228   \n",
      "17138 -0.351340 -0.309985 -0.177594 -0.065977 -0.077860 -0.110838 -0.042168   \n",
      "17139 -0.037949  0.018861  0.034028  0.076020  0.163944  0.182898  0.079670   \n",
      "\n",
      "           7         8         9     ...      1990      1991      1992  \\\n",
      "0      5.022024  5.114169  5.248591  ...  1.163289  1.432461  1.859795   \n",
      "1     -2.502251 -2.763036 -3.123375  ... -1.133142 -1.341407 -1.529556   \n",
      "2      2.844447  3.327167  3.633278  ... -0.212604  0.142062  0.544413   \n",
      "3     -0.040926 -0.565916 -1.436303  ...  0.699656  0.622357  0.659337   \n",
      "4     -0.094909  0.287149  0.589856  ... -1.305292 -0.940358 -0.570699   \n",
      "...         ...       ...       ...  ...       ...       ...       ...   \n",
      "17135  0.016813 -0.165382 -0.400002  ...  0.048979 -0.106017 -0.077527   \n",
      "17136 -0.128905  0.076235  0.252733  ... -0.052237  0.047496  0.132863   \n",
      "17137 -0.032589 -0.079860 -0.078962  ... -0.018509 -0.007292  0.116813   \n",
      "17138  0.058012  0.071314  0.035133  ... -0.067013 -0.022649 -0.225319   \n",
      "17139 -0.042250 -0.090479 -0.103991  ... -0.089089 -0.310312 -0.390886   \n",
      "\n",
      "           1993      1994      1995      1996      1997      1998      1999  \n",
      "0      2.255994  2.580994  2.837203  2.899742  2.714657  2.514586  2.370942  \n",
      "1     -1.802220 -1.999279 -1.999747 -1.963065 -2.020380 -2.058572 -1.905937  \n",
      "2      1.010017  1.472146  1.851324  2.146167  2.366673  2.507192  2.492516  \n",
      "3      0.573904  0.252458 -0.222730 -0.657538 -0.992146 -1.394653 -1.905350  \n",
      "4     -0.281981 -0.000933  0.277827  0.446453  0.538797  0.777606  1.205352  \n",
      "...         ...       ...       ...       ...       ...       ...       ...  \n",
      "17135  0.080341  0.207462  0.175465 -0.016249 -0.191027 -0.151074  0.103169  \n",
      "17136  0.225505  0.307816  0.317709  0.195624 -0.016679 -0.187985 -0.260993  \n",
      "17137  0.257929  0.298898  0.188993 -0.030731 -0.205217 -0.174452  0.054684  \n",
      "17138 -0.273481  0.029216  0.370224  0.391642  0.148857 -0.078097 -0.187919  \n",
      "17139 -0.254243  0.001048  0.151831  0.056606 -0.147067 -0.198881 -0.042294  \n",
      "\n",
      "[17140 rows x 2000 columns]\n"
     ]
    }
   ],
   "source": [
    "file_path = \"./Dataset_Truss_SysId_Gap9/sysid/\"\n",
    "\n",
    "# Initialize an empty list to store DataFrames\n",
    "df_list = []\n",
    "\n",
    "df = pd.read_csv(file_path+\"x_test.csv\", header=None, skiprows=1)\n",
    "df_list.append(df)\n",
    "df = pd.read_csv(file_path+\"x_train.csv\", header=None, skiprows=1)\n",
    "df_list.append(df)\n",
    "df = pd.read_csv(file_path+\"x_validation.csv\", header=None, skiprows=1)\n",
    "df_list.append(df)\n",
    "\n",
    "# Concatenate all DataFrames into one\n",
    "combined_df = pd.concat(df_list, ignore_index=True)\n",
    "\n",
    "# Display the first few rows of the combined DataFrame\n",
    "print(combined_df)\n"
   ]
  },
  {
   "cell_type": "code",
   "execution_count": 4,
   "id": "6c07556e",
   "metadata": {},
   "outputs": [
    {
     "name": "stdout",
     "output_type": "stream",
     "text": [
      "(66953, 512)\n",
      "[[ 5.39295578  5.42891741  5.37632895 ... -2.02515125 -2.00981998\n",
      "  -2.00674844]\n",
      " [-1.77831304 -1.25937855 -0.54760677 ... -3.00532842 -3.09841657\n",
      "  -2.94735694]\n",
      " [-2.62580562 -2.13840008 -1.46491671 ... -2.86929297 -2.85892129\n",
      "  -2.60238051]\n",
      " ...\n",
      " [ 0.34892261  0.56465948  0.39679974 ... -0.09781012 -0.10131732\n",
      "  -0.0502051 ]\n",
      " [-0.07992867 -0.1185106  -0.02422599 ...  0.13251454 -0.09893569\n",
      "  -0.28008685]\n",
      " [-0.35711423 -0.34346053 -0.2358688  ...  0.01034783  0.08349875\n",
      "   0.0464907 ]]\n"
     ]
    }
   ],
   "source": [
    "# Convert DataFrame to a NumPy array\n",
    "data_array = combined_df.to_numpy()\n",
    "\n",
    "# Flatten the array\n",
    "flattened_array = data_array.flatten()\n",
    "\n",
    "num_elements = len(flattened_array)\n",
    "num_1x512_arrays = num_elements // 512\n",
    "\n",
    "# Only include full 1x512 arrays\n",
    "ok_reshaped_array = flattened_array[:num_1x512_arrays * 512].reshape(-1, 512)\n",
    "# Print the shape to verify\n",
    "print(ok_reshaped_array.shape)\n",
    "print(ok_reshaped_array)\n"
   ]
  },
  {
   "cell_type": "code",
   "execution_count": 5,
   "id": "2872899d",
   "metadata": {},
   "outputs": [],
   "source": [
    "def save_arrays_labeled(reshaped_array, output_directory, label):\n",
    "    # Loop through each row in the reshaped array\n",
    "    for i in range(reshaped_array.shape[0]):\n",
    "        # Extract the current 1x512 array\n",
    "        single_array = reshaped_array[i]\n",
    "        \n",
    "        # Define the file name for the output\n",
    "        file_name = f'{output_directory}/array_{i}_{label}.npy'\n",
    "        \n",
    "        # Save the array as a .npy file\n",
    "        np.save(file_name, single_array)\n"
   ]
  },
  {
   "cell_type": "code",
   "execution_count": 8,
   "id": "647debf9",
   "metadata": {},
   "outputs": [],
   "source": [
    "output_directory = './output_arrays_labeledanomalies'\n",
    "\n",
    "if os.path.exists(output_directory):\n",
    "    shutil.rmtree(output_directory)\n",
    "\n",
    "os.makedirs(output_directory)\n",
    "\n",
    "# Call the function to save the arrays\n",
    "for i in range(1, 10):\n",
    "    save_arrays_labeled(reshaped_arrays_dict[i], output_directory, i)\n",
    "save_arrays_labeled(ok_reshaped_array, output_directory, 0)"
   ]
  },
  {
   "cell_type": "code",
   "execution_count": 9,
   "id": "8a227fba",
   "metadata": {},
   "outputs": [],
   "source": [
    "reshaped_arrays_dict = []\n",
    "ok_reshaped_array = []"
   ]
  },
  {
   "cell_type": "markdown",
   "id": "25bff079",
   "metadata": {},
   "source": [
    "# If provided dataset, start from here"
   ]
  },
  {
   "cell_type": "code",
   "execution_count": 2,
   "id": "3af0b483",
   "metadata": {},
   "outputs": [
    {
     "name": "stdout",
     "output_type": "stream",
     "text": [
      "Data shape: (137378, 512)\n",
      "Labels shape: (137378,)\n"
     ]
    }
   ],
   "source": [
    "def load_dataset_and_labels(directory):\n",
    "    # Initialize lists to hold the data and labels\n",
    "    data = []\n",
    "    labels = []\n",
    "\n",
    "    # Loop through each file in the directory\n",
    "    for filename in os.listdir(directory):\n",
    "        if filename.endswith('.npy'):\n",
    "            # Load the .npy file\n",
    "            array = np.load(os.path.join(directory, filename))\n",
    "            \n",
    "            # Extract the label from the filename\n",
    "            label = int(filename.split('_')[2].split('.')[0])\n",
    "            \n",
    "            # Append the array and label to the respective lists\n",
    "            data.append(array)\n",
    "            labels.append(label)\n",
    "    \n",
    "    # Convert lists to numpy arrays\n",
    "    data = np.array(data)\n",
    "    labels = np.array(labels)\n",
    "    \n",
    "    return data, labels\n",
    "\n",
    "output_directory = './output_arrays'\n",
    "# Call the function to load the dataset and labels\n",
    "data, labels = load_dataset_and_labels(output_directory)\n",
    "\n",
    "# Print shapes to verify\n",
    "print(\"Data shape:\", data.shape)\n",
    "print(\"Labels shape:\", labels.shape)\n"
   ]
  },
  {
   "cell_type": "code",
   "execution_count": 3,
   "id": "3a7d4aca",
   "metadata": {},
   "outputs": [],
   "source": [
    "class CustomDataset(Dataset):\n",
    "    def __init__(self, data, labels):\n",
    "        self.data = data\n",
    "        self.labels = labels\n",
    "\n",
    "    def __len__(self):\n",
    "        return len(self.data)\n",
    "\n",
    "    def __getitem__(self, idx):\n",
    "        sample = self.data[idx]\n",
    "        label = self.labels[idx]\n",
    "        return sample, label\n",
    "\n",
    "data_tensor = torch.tensor(data, dtype=torch.float32)\n",
    "labels_tensor = torch.tensor(labels, dtype=torch.long)\n",
    "\n",
    "custom_dataset = CustomDataset(data_tensor, labels_tensor)\n"
   ]
  },
  {
   "cell_type": "code",
   "execution_count": 4,
   "id": "11de967c",
   "metadata": {},
   "outputs": [],
   "source": [
    "data = []\n",
    "labels = []"
   ]
  },
  {
   "cell_type": "code",
   "execution_count": 5,
   "id": "1def37c9",
   "metadata": {},
   "outputs": [
    {
     "name": "stdout",
     "output_type": "stream",
     "text": [
      "Dataset split sizes - Train: 96164, Validation: 20606, Test: 20608\n",
      "Number of training batches: 752\n",
      "Number of validation batches: 161\n",
      "Number of test batches: 161\n",
      "Train Batch 0:\n",
      "Samples: torch.Size([128, 512])\n",
      "Labels: torch.Size([128])\n"
     ]
    }
   ],
   "source": [
    "batch_size = 128\n",
    "\n",
    "def get_data_loaders(dataset, train_batch_size=batch_size, val_batch_size=batch_size, test_batch_size=batch_size, train_ratio=0.7, val_ratio=0.15):\n",
    "    # Ensure the ratios sum to 1\n",
    "    test_ratio = 1 - train_ratio - val_ratio\n",
    "    if test_ratio <= 0:\n",
    "        raise ValueError(\"The sum of train_ratio and val_ratio must be less than 1.\")\n",
    "    \n",
    "    # Determine sizes for training, validation, and test sets\n",
    "    train_size = int(train_ratio * len(dataset))\n",
    "    val_size = int(val_ratio * len(dataset))\n",
    "    test_size = len(dataset) - train_size - val_size\n",
    "    \n",
    "    # Split the dataset\n",
    "    train_dataset, val_dataset, test_dataset = random_split(dataset, [train_size, val_size, test_size])\n",
    "    \n",
    "    # Create DataLoaders for the splits\n",
    "    train_loader = DataLoader(train_dataset, batch_size=train_batch_size, shuffle=True)\n",
    "    val_loader = DataLoader(val_dataset, batch_size=val_batch_size, shuffle=False)\n",
    "    test_loader = DataLoader(test_dataset, batch_size=test_batch_size, shuffle=False)\n",
    "    \n",
    "    print(f\"Dataset split sizes - Train: {train_size}, Validation: {val_size}, Test: {test_size}\")\n",
    "    print(f\"Number of training batches: {len(train_loader)}\")\n",
    "    print(f\"Number of validation batches: {len(val_loader)}\")\n",
    "    print(f\"Number of test batches: {len(test_loader)}\")\n",
    "    \n",
    "    return train_loader, val_loader, test_loader\n",
    "\n",
    "# Example usage\n",
    "train_loader, val_loader, test_loader = get_data_loaders(custom_dataset, batch_size, batch_size, batch_size)\n",
    "\n",
    "# Check one batch from the train loader\n",
    "for batch_idx, (samples, labels) in enumerate(train_loader):\n",
    "    print(f\"Train Batch {batch_idx}:\")\n",
    "    print(f\"Samples: {samples.shape}\")\n",
    "    print(f\"Labels: {labels.shape}\")\n",
    "    break  # Just to see the first batch\n"
   ]
  },
  {
   "cell_type": "code",
   "execution_count": 6,
   "id": "c9a25c2e",
   "metadata": {},
   "outputs": [],
   "source": [
    "class CNN(nn.Module):\n",
    "    def __init__(self, n_classes=2):\n",
    "        super(CNN, self).__init__()\n",
    "        \n",
    "        # First convolution layer: input 1x512x1 -> output 50x512x1\n",
    "        self.conv1 = nn.Conv2d(in_channels=1, out_channels=50, kernel_size=(3, 1), stride=1, padding=(1, 0))\n",
    "        \n",
    "        # Second convolution layer: input 50x512x1 -> output 30x512x1\n",
    "        self.conv2 = nn.Conv2d(in_channels=50, out_channels=30, kernel_size=(3, 1), stride=1, padding=(1, 0))\n",
    "        \n",
    "        # Max Pooling: input 30x512x1 -> output 30x256x1\n",
    "        self.maxpool = nn.MaxPool2d(kernel_size=(2, 1))\n",
    "        \n",
    "        # Third convolution layer: input 30x256x1 -> output 30x256x1\n",
    "        self.conv3 = nn.Conv2d(in_channels=30, out_channels=30, kernel_size=(3, 1), stride=1, padding=(1, 0))    \n",
    "        \n",
    "        # Second convolution layer: input 30x256x1 -> output 10x256x1\n",
    "        self.conv4 = nn.Conv2d(in_channels=30, out_channels=10, kernel_size=(3, 1), stride=1, padding=(1, 0)) \n",
    "        \n",
    "        # Fifth convolution layer: input 10x128x1 -> output 10x128x1\n",
    "        self.conv5 = nn.Conv2d(in_channels=10, out_channels=10, kernel_size=(3, 1), stride=1, padding=(1, 0))    \n",
    "        \n",
    "        # Sixth convolution layer: input 10x128x1 -> output 5x128x1\n",
    "        self.conv6 = nn.Conv2d(in_channels=10, out_channels=5, kernel_size=(3, 1), stride=1, padding=(1, 0)) \n",
    "        \n",
    "        # input 5x64x1 -> output 5x64x1\n",
    "        self.conv7 = nn.Conv2d(in_channels=5, out_channels=5, kernel_size=(3, 1), stride=1, padding=(1, 0))    \n",
    "        \n",
    "        # input 5x64x1 -> output 2x64x1\n",
    "        self.conv8 = nn.Conv2d(in_channels=5, out_channels=2, kernel_size=(3, 1), stride=1, padding=(1, 0)) \n",
    "        \n",
    "        # Global Average Pooling: input 5x64x1 -> output 5x1x1\n",
    "        self.global_avg_pool = nn.AdaptiveAvgPool2d((1, 1))\n",
    "        \n",
    "        # Fully connected layer: input 5 -> output n_classes\n",
    "        self.fc = nn.Linear(in_features=128, out_features=n_classes)\n",
    "    \n",
    "    def forward(self, x):\n",
    "       \n",
    "        x = x.unsqueeze(1).unsqueeze(-1)  # Convert to [N, 1, 512, 1]\n",
    "        \n",
    "        # First Conv + ReLU\n",
    "        x = F.relu(self.conv1(x))\n",
    "        \n",
    "        # Second Conv + ReLU\n",
    "        x = F.relu(self.conv2(x))\n",
    "        \n",
    "        # Max Pooling\n",
    "        x = self.maxpool(x)\n",
    "        \n",
    "        # Third Conv + ReLU\n",
    "        x = F.relu(self.conv3(x))  \n",
    "        \n",
    "        # Fourth Conv + ReLU\n",
    "        x = F.relu(self.conv4(x))\n",
    "        \n",
    "        # Max Pooling\n",
    "        x = self.maxpool(x)\n",
    "        \n",
    "        # Third Conv + ReLU\n",
    "        x = F.relu(self.conv5(x))  \n",
    "        \n",
    "        # Fourth Conv + ReLU\n",
    "        x = F.relu(self.conv6(x)) \n",
    "        \n",
    "        # Max Pooling\n",
    "        x = self.maxpool(x)\n",
    "        \n",
    "        # Third Conv + ReLU\n",
    "        x = F.relu(self.conv7(x))  \n",
    "        \n",
    "        # Fourth Conv + ReLU\n",
    "        x = F.relu(self.conv8(x))    \n",
    "        \n",
    "        # Flatten the tensor\n",
    "        x = x.view(x.size(0), -1)\n",
    "        \n",
    "        # Fully connected layer\n",
    "        x = self.fc(x)\n",
    "\n",
    "        x = F.softmax(x, dim=1)\n",
    "        \n",
    "        return x\n",
    "\n",
    "net = CNN().to(device)"
   ]
  },
  {
   "cell_type": "code",
   "execution_count": 7,
   "id": "9e71edc1",
   "metadata": {},
   "outputs": [
    {
     "name": "stdout",
     "output_type": "stream",
     "text": [
      "Before passing to the model: torch.Size([128, 512])\n",
      "Output shape: torch.Size([128, 2])\n",
      "Network Topology:\n",
      " CNN(\n",
      "  (conv1): Conv2d(1, 50, kernel_size=(3, 1), stride=(1, 1), padding=(1, 0))\n",
      "  (conv2): Conv2d(50, 30, kernel_size=(3, 1), stride=(1, 1), padding=(1, 0))\n",
      "  (maxpool): MaxPool2d(kernel_size=(2, 1), stride=(2, 1), padding=0, dilation=1, ceil_mode=False)\n",
      "  (conv3): Conv2d(30, 30, kernel_size=(3, 1), stride=(1, 1), padding=(1, 0))\n",
      "  (conv4): Conv2d(30, 10, kernel_size=(3, 1), stride=(1, 1), padding=(1, 0))\n",
      "  (conv5): Conv2d(10, 10, kernel_size=(3, 1), stride=(1, 1), padding=(1, 0))\n",
      "  (conv6): Conv2d(10, 5, kernel_size=(3, 1), stride=(1, 1), padding=(1, 0))\n",
      "  (conv7): Conv2d(5, 5, kernel_size=(3, 1), stride=(1, 1), padding=(1, 0))\n",
      "  (conv8): Conv2d(5, 2, kernel_size=(3, 1), stride=(1, 1), padding=(1, 0))\n",
      "  (global_avg_pool): AdaptiveAvgPool2d(output_size=(1, 1))\n",
      "  (fc): Linear(in_features=128, out_features=2, bias=True)\n",
      ")\n"
     ]
    }
   ],
   "source": [
    "\n",
    "# input_size = (batch_n, img_ch,img_width, img_height)\n",
    "input_size = (batch_size, 512)\n",
    "input = torch.randn(input_size).to(device)\n",
    "\n",
    "print(\"Before passing to the model:\", input.shape)\n",
    "\n",
    "# Create the model and pass the input\n",
    "output = net(input)\n",
    "\n",
    "print('Output shape:', output.shape)\n",
    "print('Network Topology:\\n',net)"
   ]
  },
  {
   "cell_type": "code",
   "execution_count": 8,
   "id": "862bd7a6",
   "metadata": {},
   "outputs": [
    {
     "name": "stdout",
     "output_type": "stream",
     "text": [
      "[INFO] Register count_convNd() for <class 'torch.nn.modules.conv.Conv2d'>.\n",
      "[INFO] Register zero_ops() for <class 'torch.nn.modules.pooling.MaxPool2d'>.\n",
      "[INFO] Register count_adap_avgpool() for <class 'torch.nn.modules.pooling.AdaptiveAvgPool2d'>.\n",
      "[INFO] Register count_linear() for <class 'torch.nn.modules.linear.Linear'>.\n",
      "Network's \tn°params: 9.205k \tMAC: 430.973M\n",
      "\n"
     ]
    }
   ],
   "source": [
    "def network_size_and_mac(net, input_size, verbose=False):\n",
    "    # Calculate the number of parameters\n",
    "    summary_info = summary(net, input_size=input_size, verbose=verbose)\n",
    "    params = summary_info.total_params\n",
    "\n",
    "    # Calculate MACs using thop\n",
    "    from thop import profile\n",
    "    macs, _ = profile(net, inputs=(torch.randn(input_size).to(next(net.parameters()).device),))\n",
    "\n",
    "    print(\"Network's \\tn°params: %.3fk \\tMAC: %.3fM\\n\" % (params/1e3, macs/1e6))\n",
    "\n",
    "network_size_and_mac(net, input_size)\n",
    "\n"
   ]
  },
  {
   "cell_type": "code",
   "execution_count": 9,
   "id": "9a1dc30b",
   "metadata": {},
   "outputs": [],
   "source": [
    "def calculate_accuracy(best_guesses, targets):\n",
    "    # Calculate the number of correct predictions\n",
    "    num_correct = (best_guesses == targets).sum().item()\n",
    "    \n",
    "    # Calculate the total number of predictions\n",
    "    total_guesses = targets.size(0)\n",
    "    \n",
    "    # Calculate the accuracy as a percentage\n",
    "    correct_percentage = num_correct / total_guesses\n",
    "    \n",
    "    return correct_percentage"
   ]
  },
  {
   "cell_type": "code",
   "execution_count": 10,
   "id": "7794d433",
   "metadata": {},
   "outputs": [],
   "source": [
    "# Define loss function\n",
    "loss_function = nn.CrossEntropyLoss()\n"
   ]
  },
  {
   "cell_type": "code",
   "execution_count": 11,
   "id": "6f4316f0",
   "metadata": {},
   "outputs": [],
   "source": [
    "def validate(net, val_loader, loss_function, accuracy_score):\n",
    "    val_losses = []\n",
    "    val_accuracy = []\n",
    "    \n",
    "    # Set net to evaluation mode\n",
    "    net.eval()\n",
    "    with torch.no_grad():\n",
    "        for batch_idx, data in enumerate(val_loader):\n",
    "            inputs, labels = data[0].to(device), data[1].to(device)\n",
    "\n",
    "            # Forward pass: get predictions from the network\n",
    "            outputs = net(inputs)\n",
    "\n",
    "            # Calculate loss\n",
    "            loss = loss_function(outputs, labels)\n",
    "            val_losses.append(loss.item())  # Append current loss to a buffer variable for plotting learning curve\n",
    "\n",
    "            # Calculate validation accuracy\n",
    "            predicted_classes = torch.max(outputs, 1)[1]  # Get class from network's prediction\n",
    "            val_accuracy.append(calculate_accuracy(predicted_classes.cpu(), labels.cpu())) \n",
    "            # val_accuracy.append(calculate_metric(accuracy_score, labels.cpu(), predicted_classes.cpu())) # This is the same accuracy calculated with scikit-learn\n",
    "            \n",
    "    average_val_loss = sum(val_losses) / (batch_idx + 1)\n",
    "    return val_accuracy, average_val_loss\n"
   ]
  },
  {
   "cell_type": "code",
   "execution_count": 13,
   "id": "348a908c",
   "metadata": {},
   "outputs": [
    {
     "name": "stdout",
     "output_type": "stream",
     "text": [
      "Accuracy: 0.48\n"
     ]
    }
   ],
   "source": [
    "val_accuracy, average_val_loss = validate(net, test_loader, loss_function, accuracy_score)\n",
    "print('Accuracy: %0.2f'% (sum(val_accuracy)/len(val_accuracy)))"
   ]
  },
  {
   "cell_type": "code",
   "execution_count": 14,
   "id": "da992ce3",
   "metadata": {},
   "outputs": [
    {
     "name": "stdout",
     "output_type": "stream",
     "text": [
      "Dataset split sizes - Train: 96164, Validation: 20606, Test: 20608\n",
      "Number of training batches: 752\n",
      "Number of validation batches: 161\n",
      "Number of test batches: 161\n"
     ]
    }
   ],
   "source": [
    "epochs = 50\n",
    "\n",
    "# Move net to gpu:\n",
    "net.to(device)\n",
    "\n",
    "# Build Dataloaders\n",
    "train_loader, val_loader, test_loader = get_data_loaders(custom_dataset, batch_size, batch_size, batch_size)\n",
    "\n",
    "def training(net, train_loader, val_loader, loss_function, epochs):    \n",
    "    # Define optimizer\n",
    "    optimizer = optim.Adam(net.parameters())\n",
    "\n",
    "    # Count total batches\n",
    "    tot_train_batches = len(train_loader)\n",
    "    tot_val_batches = len(val_loader)\n",
    "\n",
    "    # Create lists to store training history\n",
    "    train_loss_history = []\n",
    "    train_accuracy_history = []\n",
    "    # Create lists to store validation history\n",
    "    val_loss_history = []\n",
    "    val_accuracy_history = []\n",
    "\n",
    "    start_ts = time.time()     \n",
    "\n",
    "    # ----------------- TRAINING  -------------------- #\n",
    "    # Loop for every epoch (training + evaluation)\n",
    "    for epoch in range(epochs):\n",
    "        total_epoch_loss = 0\n",
    "        train_accuracy = []\n",
    "\n",
    "        net.train() # Set model to training mode\n",
    "        # Loop for every batch of images in the dataset\n",
    "        for batch_idx, data in enumerate(train_loader):\n",
    "            inputs, labels = data[0].to(device), data[1].to(device)\n",
    "            \n",
    "            # Compute prediction (forward pass)\n",
    "            outputs = net(inputs)\n",
    "            # Compute prediction error with the loss function\n",
    "            loss = loss_function(outputs, labels)\n",
    "            # Gradients to zero for every batch of data\n",
    "            optimizer.zero_grad()\n",
    "            # Backpropagation\n",
    "            loss.backward()\n",
    "            # Optimizer step\n",
    "            optimizer.step()\n",
    "            \n",
    "            # Getting training quality data\n",
    "            current_loss = loss.item()\n",
    "\n",
    "            # Compute average loss\n",
    "            total_epoch_loss += current_loss\n",
    "            average_train_loss = total_epoch_loss / (batch_idx + 1)\n",
    "            \n",
    "            # Calculate training accuracy\n",
    "            predicted_classes = torch.max(outputs, 1)[1] # Get class from network's prediction\n",
    "            train_accuracy.append(calculate_accuracy(predicted_classes.cpu(), labels.cpu())) \n",
    "\n",
    "            average_train_accuracy = sum(train_accuracy) / (batch_idx + 1)\n",
    "            \n",
    "\n",
    "        # ----------------- VALIDATION  ----------------- #\n",
    "        val_accuracy, val_loss = validate(net, val_loader, loss_function, calculate_accuracy)\n",
    "\n",
    "        # Compute mean accuracy\n",
    "        average_train_accuracy = sum(train_accuracy) / tot_train_batches\n",
    "        average_val_accuracy = sum(val_accuracy) / tot_val_batches\n",
    "\n",
    "        # Print training/validation Accuracy and Loss\n",
    "        print('Epoch %d/%d' % (epoch + 1, epochs), 'Training loss:  %.4f' % (average_train_loss), 'Accuracy: %.4f' % (average_train_accuracy))\n",
    "        print('Validation Loss: %.4f' % (val_loss), 'Accuracy: %.4f' % (average_val_accuracy))\n",
    "\n",
    "        # Append current average training loss to a buffer variable, for plotting learning curve later\n",
    "        train_loss_history.append(float(average_train_loss))\n",
    "        val_loss_history.append(float(val_loss))\n",
    "        train_accuracy_history.append(float(average_train_accuracy))\n",
    "        val_accuracy_history.append(float(average_val_accuracy))\n",
    "\n",
    "    print('Training time: %.1f seconds' % (time.time() - start_ts)) \n",
    "\n",
    "    return train_loss_history, train_accuracy_history, val_loss_history, val_accuracy_history\n"
   ]
  },
  {
   "cell_type": "code",
   "execution_count": 15,
   "id": "049bf452",
   "metadata": {
    "scrolled": true
   },
   "outputs": [
    {
     "name": "stdout",
     "output_type": "stream",
     "text": [
      "Epoch 1/50 Training loss:  0.6518 Accuracy: 0.6133\n",
      "Validation Loss: 0.6123 Accuracy: 0.6802\n",
      "Epoch 2/50 Training loss:  0.6045 Accuracy: 0.6876\n",
      "Validation Loss: 0.5920 Accuracy: 0.7016\n",
      "Epoch 3/50 Training loss:  0.5906 Accuracy: 0.7023\n",
      "Validation Loss: 0.5818 Accuracy: 0.7140\n",
      "Epoch 4/50 Training loss:  0.5808 Accuracy: 0.7144\n",
      "Validation Loss: 0.5825 Accuracy: 0.7075\n",
      "Epoch 5/50 Training loss:  0.5720 Accuracy: 0.7240\n",
      "Validation Loss: 0.5664 Accuracy: 0.7327\n",
      "Epoch 6/50 Training loss:  0.5615 Accuracy: 0.7354\n",
      "Validation Loss: 0.5500 Accuracy: 0.7506\n",
      "Epoch 7/50 Training loss:  0.5491 Accuracy: 0.7489\n",
      "Validation Loss: 0.5353 Accuracy: 0.7617\n",
      "Epoch 8/50 Training loss:  0.5363 Accuracy: 0.7641\n",
      "Validation Loss: 0.5358 Accuracy: 0.7603\n",
      "Epoch 9/50 Training loss:  0.5236 Accuracy: 0.7771\n",
      "Validation Loss: 0.5017 Accuracy: 0.8025\n",
      "Epoch 10/50 Training loss:  0.4916 Accuracy: 0.8113\n",
      "Validation Loss: 0.4822 Accuracy: 0.8202\n",
      "Epoch 11/50 Training loss:  0.4664 Accuracy: 0.8380\n",
      "Validation Loss: 0.5097 Accuracy: 0.7886\n",
      "Epoch 12/50 Training loss:  0.4588 Accuracy: 0.8463\n",
      "Validation Loss: 0.4444 Accuracy: 0.8608\n",
      "Epoch 13/50 Training loss:  0.4480 Accuracy: 0.8579\n",
      "Validation Loss: 0.4489 Accuracy: 0.8574\n",
      "Epoch 14/50 Training loss:  0.4449 Accuracy: 0.8618\n",
      "Validation Loss: 0.4301 Accuracy: 0.8773\n",
      "Epoch 15/50 Training loss:  0.4357 Accuracy: 0.8710\n",
      "Validation Loss: 0.4441 Accuracy: 0.8629\n",
      "Epoch 16/50 Training loss:  0.4296 Accuracy: 0.8771\n",
      "Validation Loss: 0.4230 Accuracy: 0.8837\n",
      "Epoch 17/50 Training loss:  0.4259 Accuracy: 0.8818\n",
      "Validation Loss: 0.4445 Accuracy: 0.8614\n",
      "Epoch 18/50 Training loss:  0.4215 Accuracy: 0.8862\n",
      "Validation Loss: 0.4168 Accuracy: 0.8923\n",
      "Epoch 19/50 Training loss:  0.4135 Accuracy: 0.8942\n",
      "Validation Loss: 0.4122 Accuracy: 0.8968\n",
      "Epoch 20/50 Training loss:  0.4096 Accuracy: 0.8990\n",
      "Validation Loss: 0.4008 Accuracy: 0.9082\n",
      "Epoch 21/50 Training loss:  0.4071 Accuracy: 0.9020\n",
      "Validation Loss: 0.4213 Accuracy: 0.8873\n",
      "Epoch 22/50 Training loss:  0.4020 Accuracy: 0.9070\n",
      "Validation Loss: 0.3917 Accuracy: 0.9175\n",
      "Epoch 23/50 Training loss:  0.4039 Accuracy: 0.9048\n",
      "Validation Loss: 0.4002 Accuracy: 0.9095\n",
      "Epoch 24/50 Training loss:  0.4009 Accuracy: 0.9079\n",
      "Validation Loss: 0.4463 Accuracy: 0.8604\n",
      "Epoch 25/50 Training loss:  0.3967 Accuracy: 0.9128\n",
      "Validation Loss: 0.3933 Accuracy: 0.9165\n",
      "Epoch 26/50 Training loss:  0.3951 Accuracy: 0.9147\n",
      "Validation Loss: 0.3849 Accuracy: 0.9251\n",
      "Epoch 27/50 Training loss:  0.3937 Accuracy: 0.9160\n",
      "Validation Loss: 0.4075 Accuracy: 0.9014\n",
      "Epoch 28/50 Training loss:  0.3915 Accuracy: 0.9181\n",
      "Validation Loss: 0.3893 Accuracy: 0.9195\n",
      "Epoch 29/50 Training loss:  0.3923 Accuracy: 0.9174\n",
      "Validation Loss: 0.3991 Accuracy: 0.9094\n",
      "Epoch 30/50 Training loss:  0.3906 Accuracy: 0.9190\n",
      "Validation Loss: 0.3845 Accuracy: 0.9260\n",
      "Epoch 31/50 Training loss:  0.3892 Accuracy: 0.9210\n",
      "Validation Loss: 0.3869 Accuracy: 0.9224\n",
      "Epoch 32/50 Training loss:  0.3884 Accuracy: 0.9210\n",
      "Validation Loss: 0.4016 Accuracy: 0.9057\n",
      "Epoch 33/50 Training loss:  0.3870 Accuracy: 0.9224\n",
      "Validation Loss: 0.3979 Accuracy: 0.9110\n",
      "Epoch 34/50 Training loss:  0.3844 Accuracy: 0.9261\n",
      "Validation Loss: 0.3789 Accuracy: 0.9319\n",
      "Epoch 35/50 Training loss:  0.3858 Accuracy: 0.9243\n",
      "Validation Loss: 0.3902 Accuracy: 0.9198\n",
      "Epoch 36/50 Training loss:  0.3850 Accuracy: 0.9254\n",
      "Validation Loss: 0.3825 Accuracy: 0.9284\n",
      "Epoch 37/50 Training loss:  0.3852 Accuracy: 0.9246\n",
      "Validation Loss: 0.3802 Accuracy: 0.9300\n",
      "Epoch 38/50 Training loss:  0.3823 Accuracy: 0.9282\n",
      "Validation Loss: 0.4125 Accuracy: 0.8959\n",
      "Epoch 39/50 Training loss:  0.3845 Accuracy: 0.9257\n",
      "Validation Loss: 0.3767 Accuracy: 0.9342\n",
      "Epoch 40/50 Training loss:  0.3829 Accuracy: 0.9271\n",
      "Validation Loss: 0.4095 Accuracy: 0.8993\n",
      "Epoch 41/50 Training loss:  0.3830 Accuracy: 0.9270\n",
      "Validation Loss: 0.3785 Accuracy: 0.9307\n",
      "Epoch 42/50 Training loss:  0.3794 Accuracy: 0.9313\n",
      "Validation Loss: 0.3801 Accuracy: 0.9294\n",
      "Epoch 43/50 Training loss:  0.3813 Accuracy: 0.9288\n",
      "Validation Loss: 0.4049 Accuracy: 0.9031\n",
      "Epoch 44/50 Training loss:  0.3775 Accuracy: 0.9334\n",
      "Validation Loss: 0.3791 Accuracy: 0.9312\n",
      "Epoch 45/50 Training loss:  0.3798 Accuracy: 0.9305\n",
      "Validation Loss: 0.3934 Accuracy: 0.9157\n",
      "Epoch 46/50 Training loss:  0.3801 Accuracy: 0.9303\n",
      "Validation Loss: 0.3803 Accuracy: 0.9301\n",
      "Epoch 47/50 Training loss:  0.3777 Accuracy: 0.9326\n",
      "Validation Loss: 0.3767 Accuracy: 0.9339\n",
      "Epoch 48/50 Training loss:  0.3767 Accuracy: 0.9342\n",
      "Validation Loss: 0.3738 Accuracy: 0.9373\n",
      "Epoch 49/50 Training loss:  0.3791 Accuracy: 0.9313\n",
      "Validation Loss: 0.4006 Accuracy: 0.9089\n",
      "Epoch 50/50 Training loss:  0.3792 Accuracy: 0.9312\n",
      "Validation Loss: 0.3858 Accuracy: 0.9245\n",
      "Training time: 141.3 seconds\n"
     ]
    }
   ],
   "source": [
    "(train_loss_history,\n",
    "train_accuracy_history, \n",
    "val_loss_history, \n",
    "val_accuracy_history) = training(net, train_loader, val_loader, loss_function, epochs)"
   ]
  },
  {
   "cell_type": "code",
   "execution_count": 16,
   "id": "dc837c3a",
   "metadata": {},
   "outputs": [
    {
     "data": {
      "image/png": "[encoded data removed]",
      "text/plain": [
       "<Figure size 640x480 with 1 Axes>"
      ]
     },
     "metadata": {},
     "output_type": "display_data"
    },
    {
     "data": {
      "image/png": "[encoded data removed]",
      "text/plain": [
       "<Figure size 640x480 with 1 Axes>"
      ]
     },
     "metadata": {},
     "output_type": "display_data"
    }
   ],
   "source": [
    "# Assuming train_loss_history, val_loss_history, train_accuracy_history, val_accuracy_history are already defined\n",
    "\n",
    "# Plot training/validation loss\n",
    "plt.plot(train_loss_history, label=\"Training Loss\")\n",
    "plt.plot(val_loss_history, label=\"Validation Loss\")\n",
    "plt.xlabel('No. of Epochs')\n",
    "plt.ylabel('Loss')\n",
    "plt.legend(frameon=False)\n",
    "plt.show()\n",
    "\n",
    "# Plot training/validation accuracy\n",
    "plt.plot(train_accuracy_history, label=\"Training Accuracy\")\n",
    "plt.plot(val_accuracy_history, label=\"Validation Accuracy\")\n",
    "plt.xlabel('No. of Epochs')\n",
    "plt.ylabel('Accuracy')\n",
    "plt.ylim([0., 1.]) # Limit y axis between 0 and 1\n",
    "plt.legend(frameon=False)\n",
    "plt.show()\n"
   ]
  },
  {
   "cell_type": "code",
   "execution_count": 17,
   "id": "78f6983a",
   "metadata": {},
   "outputs": [
    {
     "name": "stdout",
     "output_type": "stream",
     "text": [
      "Accuracy: 0.93\n"
     ]
    }
   ],
   "source": [
    "test_accuracy, average_test_loss = validate(net, test_loader, loss_function, accuracy_score)\n",
    "print('Accuracy: %0.2f'% (sum(test_accuracy)/len(test_accuracy)))"
   ]
  },
  {
   "cell_type": "code",
   "execution_count": 18,
   "id": "a6d9fa96",
   "metadata": {},
   "outputs": [
    {
     "name": "stdout",
     "output_type": "stream",
     "text": [
      "Model saved to ./SI_model/SI_CNN.pth\n"
     ]
    }
   ],
   "source": [
    "model_export_path = \"./SI_model/\"\n",
    "model_name = 'SI_CNN.pth'\n",
    "os.makedirs(model_export_path, exist_ok=True)\n",
    "\n",
    "#Save Pytorch model\n",
    "def save_net(net, model_path, model_name):\n",
    "    # Save PyTorch model\n",
    "    model_full_path = os.path.join(model_path, model_name)\n",
    "    torch.save(net.state_dict(), model_full_path)\n",
    "    print(f'Model saved to {model_full_path}')\n",
    "\n",
    "# Example usage\n",
    "save_net(net, model_export_path, model_name)"
   ]
  },
  {
   "cell_type": "code",
   "execution_count": null,
   "id": "f2f90d42",
   "metadata": {},
   "outputs": [],
   "source": []
  }
 ],
 "metadata": {
  "kernelspec": {
   "display_name": "Python 3 (ipykernel)",
   "language": "python",
   "name": "python3"
  },
  "language_info": {
   "codemirror_mode": {
    "name": "ipython",
    "version": 3
   },
   "file_extension": ".py",
   "mimetype": "text/x-python",
   "name": "python",
   "nbconvert_exporter": "python",
   "pygments_lexer": "ipython3",
   "version": "3.12.3"
  }
 },
 "nbformat": 4,
 "nbformat_minor": 5
}
