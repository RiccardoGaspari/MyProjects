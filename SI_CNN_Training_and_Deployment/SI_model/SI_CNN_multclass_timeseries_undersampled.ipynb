{
 "cells": [
  {
   "cell_type": "code",
   "execution_count": 1,
   "id": "24017c19",
   "metadata": {},
   "outputs": [
    {
     "name": "stdout",
     "output_type": "stream",
     "text": [
      "\n",
      "PyTorch version in use: 2.4.1+cu118 \n",
      "cuda avail:  True\n"
     ]
    },
    {
     "name": "stderr",
     "output_type": "stream",
     "text": [
      "C:\\Users\\ricig\\AppData\\Local\\Temp\\ipykernel_20032\\3372247548.py:24: TqdmExperimentalWarning: Using `tqdm.autonotebook.tqdm` in notebook mode. Use `tqdm.tqdm` instead to force console mode (e.g. in jupyter console)\n",
      "  from tqdm.autonotebook import tqdm\n"
     ]
    },
    {
     "name": "stdout",
     "output_type": "stream",
     "text": [
      "Device: cuda\n"
     ]
    }
   ],
   "source": [
    "#basic\n",
    "import os\n",
    "from os.path import join\n",
    "import numpy as np\n",
    "import matplotlib.pyplot as plt\n",
    "import pandas as pd\n",
    "\n",
    "#torch\n",
    "import torch; print('\\nPyTorch version in use:', torch.__version__, '\\ncuda avail: ', torch.cuda.is_available())\n",
    "import torch.nn as nn\n",
    "import torch.nn.functional as F\n",
    "import torch.optim as optim\n",
    "from torch.utils.data import DataLoader, Dataset, random_split\n",
    "from torchinfo import summary\n",
    "import torch.nn as nn\n",
    "import torch.optim as optim\n",
    "import torchvision.models as models\n",
    "\n",
    "#torchvision\n",
    "import torchvision\n",
    "from torchvision import transforms, datasets\n",
    "\n",
    "from copy import deepcopy\n",
    "from tqdm.autonotebook import tqdm\n",
    "from sklearn.metrics import precision_score, recall_score, f1_score, accuracy_score\n",
    "import inspect\n",
    "import shutil\n",
    "import time\n",
    "\n",
    "device = torch.device('cuda' if torch.cuda.is_available() else 'cpu')\n",
    "print('Device: %s' % device)"
   ]
  },
  {
   "cell_type": "code",
   "execution_count": null,
   "id": "1288958d",
   "metadata": {
    "scrolled": true
   },
   "outputs": [],
   "source": [
    "file_path = \"./Dataset_Truss_SysId_Gap9/sysid/\"\n",
    "file_pattern = \"anomaly_{}.csv\"\n",
    "\n",
    "# Initialize an empty list to store DataFrames\n",
    "df_list = []\n",
    "\n",
    "# Loop through the files and read them into DataFrames\n",
    "for i in range(1, 10):\n",
    "    file_name = file_path + file_pattern.format(i)\n",
    "    df = pd.read_csv(file_name, header=None, skiprows=1)\n",
    "    df_list.append(df)\n",
    "\n",
    "# Concatenate all DataFrames into one\n",
    "combined_df = pd.concat(df_list, ignore_index=True)\n",
    "\n",
    "# Display the first few rows of the combined DataFrame\n",
    "#print(combined_df)\n",
    "print(df_list[0])\n"
   ]
  },
  {
   "cell_type": "code",
   "execution_count": null,
   "id": "3061ee62",
   "metadata": {},
   "outputs": [],
   "source": [
    "# Convert DataFrame to a NumPy array\n",
    "data_array = combined_df.to_numpy()\n",
    "\n",
    "# Flatten the array\n",
    "flattened_array = data_array.flatten()\n",
    "\n",
    "num_elements = len(flattened_array)\n",
    "num_1x500_arrays = num_elements // 500\n",
    "\n",
    "# Only include full 1x500 arrays\n",
    "anomaly_reshaped_array = flattened_array[:num_1x500_arrays * 500].reshape(-1, 500)\n",
    "# Print the shape to verify\n",
    "print(anomaly_reshaped_array.shape)\n",
    "print(anomaly_reshaped_array)\n"
   ]
  },
  {
   "cell_type": "code",
   "execution_count": null,
   "id": "3ba8435d",
   "metadata": {},
   "outputs": [],
   "source": [
    "file_path = \"./Dataset_Truss_SysId_Gap9/sysid/\"\n",
    "file_pattern = \"anomaly_{}.csv\"\n",
    "\n",
    "# Initialize an empty dictionary to store DataFrames\n",
    "df_dict = {}\n",
    "\n",
    "# Initialize an empty dictionary to store reshaped arrays\n",
    "reshaped_arrays_dict = {}\n",
    "\n",
    "# Loop through the files and read them into DataFrames\n",
    "for i in range(1, 10):\n",
    "    file_name = file_path + file_pattern.format(i)\n",
    "    df = pd.read_csv(file_name, header=None, skiprows=1)\n",
    "    df_dict[i] = df  # Save each DataFrame in the dictionary with the file number as the key\n",
    "    \n",
    "    # Convert DataFrame to a NumPy array\n",
    "    data_array = df.to_numpy()\n",
    "    \n",
    "    # Flatten the array\n",
    "    flattened_array = data_array.flatten()\n",
    "    \n",
    "    num_elements = len(flattened_array)\n",
    "    num_1x500_arrays = num_elements // 500\n",
    "    \n",
    "    # Only include full 1x500 arrays\n",
    "    reshaped_array = flattened_array[:num_1x500_arrays * 500].reshape(-1, 500)\n",
    "    \n",
    "    # Store the reshaped array in the dictionary\n",
    "    reshaped_arrays_dict[i] = reshaped_array\n",
    "\n",
    "# Example: Display the shape of the reshaped arrays to verify\n",
    "for key, array in reshaped_arrays_dict.items():\n",
    "    print(f\"Reshaped Array {key} shape: {array.shape}\")\n",
    "\n",
    "# Example: Access and display a specific reshaped array\n",
    "example_reshaped_array = reshaped_arrays_dict[1]\n",
    "print(f\"\\nExample Reshaped Array 1:\\n{example_reshaped_array}\")\n"
   ]
  },
  {
   "cell_type": "code",
   "execution_count": null,
   "id": "f24029cc",
   "metadata": {
    "scrolled": true
   },
   "outputs": [],
   "source": [
    "file_path = \"./Dataset_Truss_SysId_Gap9/sysid/\"\n",
    "\n",
    "# Initialize an empty list to store DataFrames\n",
    "df_list = []\n",
    "\n",
    "df = pd.read_csv(file_path+\"x_test.csv\", header=None, skiprows=1)\n",
    "df_list.append(df)\n",
    "df = pd.read_csv(file_path+\"x_train.csv\", header=None, skiprows=1)\n",
    "df_list.append(df)\n",
    "df = pd.read_csv(file_path+\"x_validation.csv\", header=None, skiprows=1)\n",
    "df_list.append(df)\n",
    "\n",
    "# Concatenate all DataFrames into one\n",
    "combined_df = pd.concat(df_list, ignore_index=True)\n",
    "\n",
    "# Display the first few rows of the combined DataFrame\n",
    "print(combined_df)\n"
   ]
  },
  {
   "cell_type": "code",
   "execution_count": null,
   "id": "6c07556e",
   "metadata": {},
   "outputs": [],
   "source": [
    "# Convert DataFrame to a NumPy array\n",
    "data_array = combined_df.to_numpy()\n",
    "\n",
    "# Flatten the array\n",
    "flattened_array = data_array.flatten()\n",
    "\n",
    "num_elements = len(flattened_array)\n",
    "num_1x500_arrays = num_elements // 500\n",
    "\n",
    "# Only include full 1x512 arrays\n",
    "ok_reshaped_array = flattened_array[:num_1x500_arrays * 500].reshape(-1, 500)\n",
    "# Print the shape to verify\n",
    "print(ok_reshaped_array.shape)\n",
    "print(ok_reshaped_array)\n"
   ]
  },
  {
   "cell_type": "code",
   "execution_count": null,
   "id": "2872899d",
   "metadata": {},
   "outputs": [],
   "source": [
    "def save_arrays_labeled(reshaped_array, output_directory, label):\n",
    "    # Loop through each row in the reshaped array\n",
    "    for i in range(reshaped_array.shape[0]):\n",
    "        # Extract the current 1x500 array\n",
    "        single_array = reshaped_array[i]\n",
    "        \n",
    "        # Define the file name for the output\n",
    "        file_name = f'{output_directory}/array_{i}_{label}.npy'\n",
    "        \n",
    "        # Save the array as a .npy file\n",
    "        np.save(file_name, single_array)\n"
   ]
  },
  {
   "cell_type": "code",
   "execution_count": null,
   "id": "647debf9",
   "metadata": {},
   "outputs": [],
   "source": [
    "output_directory = './output_arrays_labeledanomalies'\n",
    "\n",
    "if os.path.exists(output_directory):\n",
    "    shutil.rmtree(output_directory)\n",
    "\n",
    "os.makedirs(output_directory)\n",
    "\n",
    "# Call the function to save the arrays\n",
    "for i in range(1, 10):\n",
    "    save_arrays_labeled(reshaped_arrays_dict[i], output_directory, i)\n",
    "save_arrays_labeled(ok_reshaped_array, output_directory, 0)"
   ]
  },
  {
   "cell_type": "code",
   "execution_count": null,
   "id": "8a227fba",
   "metadata": {},
   "outputs": [],
   "source": [
    "reshaped_arrays_dict = []\n",
    "ok_reshaped_array = []"
   ]
  },
  {
   "cell_type": "markdown",
   "id": "25bff079",
   "metadata": {},
   "source": [
    "# If provided dataset, start from here"
   ]
  },
  {
   "cell_type": "code",
   "execution_count": 2,
   "id": "3af0b483",
   "metadata": {},
   "outputs": [
    {
     "name": "stdout",
     "output_type": "stream",
     "text": [
      "Data shape: (140676, 500)\n",
      "Labels shape: (140676,)\n",
      "[0 1 2 ... 7 8 9]\n"
     ]
    }
   ],
   "source": [
    "def load_dataset_and_labels(directory):\n",
    "    # Initialize lists to hold the data and labels\n",
    "    data = []\n",
    "    labels = []\n",
    "\n",
    "    # Loop through each file in the directory\n",
    "    for filename in os.listdir(directory):\n",
    "        if filename.endswith('.npy'):\n",
    "            # Load the .npy file\n",
    "            array = np.load(os.path.join(directory, filename))\n",
    "            \n",
    "            # Extract the label from the filename\n",
    "            label = int(filename.split('_')[2].split('.')[0])\n",
    "            \n",
    "            # Append the array and label to the respective lists\n",
    "            data.append(array)\n",
    "            labels.append(label)\n",
    "    \n",
    "    # Convert lists to numpy arrays\n",
    "    data = np.array(data)\n",
    "    labels = np.array(labels)\n",
    "    \n",
    "    return data, labels\n",
    "\n",
    "output_directory = './output_arrays_labeledanomalies'\n",
    "# Call the function to load the dataset and labels\n",
    "data, labels = load_dataset_and_labels(output_directory)\n",
    "\n",
    "data = (data - data.mean()) / data.std()\n",
    "\n",
    "# Print shapes to verify\n",
    "print(\"Data shape:\", data.shape)\n",
    "print(\"Labels shape:\", labels.shape)\n",
    "print(labels)\n"
   ]
  },
  {
   "cell_type": "code",
   "execution_count": 3,
   "id": "221012d3",
   "metadata": {},
   "outputs": [
    {
     "name": "stdout",
     "output_type": "stream",
     "text": [
      "Data shape: (80128, 500)\n",
      "Labels shape: (80128,)\n"
     ]
    }
   ],
   "source": [
    "# Separate the data and labels into majority (label 0) and minority classes\n",
    "majority_class_data = data[labels == 0]\n",
    "majority_class_labels = labels[labels == 0]\n",
    "\n",
    "minority_class_data = data[labels != 0]\n",
    "minority_class_labels = labels[labels != 0]\n",
    "\n",
    "# Combine majority data and labels into a single array for undersampling\n",
    "combined_majority_data = majority_class_data.reshape(-1, majority_class_data.shape[-1])\n",
    "combined_majority_labels = majority_class_labels\n",
    "\n",
    "# Set the desired ratio of the majority class to the minority classes\n",
    "undersample_ratio = len(minority_class_labels) // len(np.unique(minority_class_labels))\n",
    "\n",
    "# Randomly select indices for undersampling the majority class\n",
    "undersample_indices = np.random.choice(len(majority_class_data), size=undersample_ratio, replace=False)\n",
    "majority_class_data_undersampled = majority_class_data[undersample_indices]\n",
    "majority_class_labels_undersampled = majority_class_labels[undersample_indices]\n",
    "\n",
    "# Combine the undersampled majority class with the minority classes\n",
    "data_resampled = np.vstack((majority_class_data_undersampled, minority_class_data))\n",
    "labels_resampled = np.hstack((majority_class_labels_undersampled, minority_class_labels))\n",
    "\n",
    "# Print shapes to verify\n",
    "print(\"Data shape:\", data_resampled.shape)\n",
    "print(\"Labels shape:\", labels_resampled.shape)\n",
    "\n",
    "# Convert resampled data to tensors\n",
    "data_tensor_resampled = torch.tensor(data_resampled, dtype=torch.float32)\n",
    "labels_tensor_resampled = torch.tensor(labels_resampled, dtype=torch.long)"
   ]
  },
  {
   "cell_type": "code",
   "execution_count": 4,
   "id": "f02b8c2a",
   "metadata": {},
   "outputs": [
    {
     "name": "stdout",
     "output_type": "stream",
     "text": [
      "Uniform data shape: (20000, 500)\n",
      "Uniform labels shape: (20000,)\n"
     ]
    }
   ],
   "source": [
    "def uniform_undersample(data, labels, target_per_class=2000):\n",
    "    \"\"\"\n",
    "    For each unique label, randomly select target_per_class samples.\n",
    "    If a class has fewer samples than target_per_class, sampling is done with replacement.\n",
    "    \"\"\"\n",
    "    unique_classes = np.unique(labels)\n",
    "    undersampled_data = []\n",
    "    undersampled_labels = []\n",
    "    \n",
    "    for c in unique_classes:\n",
    "        # Find the indices for the current class\n",
    "        class_indices = np.where(labels == c)[0]\n",
    "        \n",
    "        # If enough samples exist, sample without replacement; otherwise, sample with replacement.\n",
    "        if len(class_indices) >= target_per_class:\n",
    "            selected_indices = np.random.choice(class_indices, size=target_per_class, replace=False)\n",
    "        else:\n",
    "            selected_indices = np.random.choice(class_indices, size=target_per_class, replace=True)\n",
    "        \n",
    "        undersampled_data.append(data[selected_indices])\n",
    "        undersampled_labels.append(labels[selected_indices])\n",
    "    \n",
    "    # Stack the arrays so that the final dataset has target_per_class samples for each class\n",
    "    final_data = np.vstack(undersampled_data)\n",
    "    final_labels = np.hstack(undersampled_labels)\n",
    "    \n",
    "    return final_data, final_labels\n",
    "\n",
    "# Assuming data_resampled and labels_resampled have been created from your previous code:\n",
    "data_uniform, labels_uniform = uniform_undersample(data_resampled, labels_resampled, target_per_class=2000)\n",
    "\n",
    "print(\"Uniform data shape:\", data_uniform.shape)\n",
    "print(\"Uniform labels shape:\", labels_uniform.shape)\n"
   ]
  },
  {
   "cell_type": "code",
   "execution_count": 5,
   "id": "3a7d4aca",
   "metadata": {},
   "outputs": [],
   "source": [
    "class CustomDataset(Dataset):\n",
    "    def __init__(self, data, labels):\n",
    "        self.data = data\n",
    "        self.labels = labels\n",
    "\n",
    "    def __len__(self):\n",
    "        return len(self.data)\n",
    "\n",
    "    def __getitem__(self, idx):\n",
    "        sample = self.data[idx]\n",
    "        label = self.labels[idx]\n",
    "        return sample, label"
   ]
  },
  {
   "cell_type": "code",
   "execution_count": 6,
   "id": "def943cb",
   "metadata": {},
   "outputs": [],
   "source": [
    "custom_dataset = CustomDataset(data_tensor_resampled, labels_tensor_resampled)"
   ]
  },
  {
   "cell_type": "code",
   "execution_count": 7,
   "id": "11de967c",
   "metadata": {},
   "outputs": [],
   "source": [
    "data = []\n",
    "labels = []\n",
    "data_resampled = []\n",
    "labels_resampled = []"
   ]
  },
  {
   "cell_type": "code",
   "execution_count": 8,
   "id": "1def37c9",
   "metadata": {},
   "outputs": [
    {
     "name": "stdout",
     "output_type": "stream",
     "text": [
      "Dataset split sizes - Train: 56089, Validation: 12019, Test: 12020\n",
      "Number of training batches: 439\n",
      "Number of validation batches: 94\n",
      "Number of test batches: 94\n",
      "Train Batch 0:\n",
      "Samples: torch.Size([128, 500])\n",
      "Labels: torch.Size([128])\n"
     ]
    }
   ],
   "source": [
    "batch_size = 128\n",
    "\n",
    "def get_data_loaders(dataset, train_batch_size=batch_size, val_batch_size=batch_size, test_batch_size=batch_size, train_ratio=0.7, val_ratio=0.15):\n",
    "    # Ensure the ratios sum to 1\n",
    "    test_ratio = 1 - train_ratio - val_ratio\n",
    "    if test_ratio <= 0:\n",
    "        raise ValueError(\"The sum of train_ratio and val_ratio must be less than 1.\")\n",
    "    \n",
    "    # Determine sizes for training, validation, and test sets\n",
    "    train_size = int(train_ratio * len(dataset))\n",
    "    val_size = int(val_ratio * len(dataset))\n",
    "    test_size = len(dataset) - train_size - val_size\n",
    "    \n",
    "    # Split the dataset\n",
    "    train_dataset, val_dataset, test_dataset = random_split(dataset, [train_size, val_size, test_size])\n",
    "    \n",
    "    # Create DataLoaders for the splits\n",
    "    train_loader = DataLoader(train_dataset, batch_size=train_batch_size, shuffle=True)\n",
    "    val_loader = DataLoader(val_dataset, batch_size=val_batch_size, shuffle=False)\n",
    "    test_loader = DataLoader(test_dataset, batch_size=test_batch_size, shuffle=False)\n",
    "    \n",
    "    print(f\"Dataset split sizes - Train: {train_size}, Validation: {val_size}, Test: {test_size}\")\n",
    "    print(f\"Number of training batches: {len(train_loader)}\")\n",
    "    print(f\"Number of validation batches: {len(val_loader)}\")\n",
    "    print(f\"Number of test batches: {len(test_loader)}\")\n",
    "    \n",
    "    return train_loader, val_loader, test_loader\n",
    "\n",
    "# Example usage\n",
    "train_loader, val_loader, test_loader = get_data_loaders(custom_dataset, batch_size, batch_size, batch_size)\n",
    "\n",
    "# Check one batch from the train loader\n",
    "for batch_idx, (samples, labels) in enumerate(train_loader):\n",
    "    print(f\"Train Batch {batch_idx}:\")\n",
    "    print(f\"Samples: {samples.shape}\")\n",
    "    print(f\"Labels: {labels.shape}\")\n",
    "    break  # Just to see the first batch\n"
   ]
  },
  {
   "cell_type": "code",
   "execution_count": 9,
   "id": "c9a25c2e",
   "metadata": {},
   "outputs": [],
   "source": [
    "import torch\n",
    "import torch.nn as nn\n",
    "import torch.nn.functional as F\n",
    "\n",
    "class CNN(nn.Module):\n",
    "    def __init__(self, n_classes=10):\n",
    "        super(CNN, self).__init__()\n",
    "        \n",
    "        # First convolution block: input 1x500 -> output 16x500\n",
    "        self.conv1 = nn.Conv1d(1, 16, kernel_size=3, padding=1)\n",
    "        self.bn1 = nn.BatchNorm1d(16)  # BatchNorm after conv\n",
    "        \n",
    "        # Second convolution block: input 16x500 -> output 32x500\n",
    "        self.conv2 = nn.Conv1d(16, 32, kernel_size=3, padding=1)\n",
    "        self.bn2 = nn.BatchNorm1d(32)\n",
    "\n",
    "        # Max Pooling: input 32x500 -> output 32x250\n",
    "        self.maxpool = nn.MaxPool1d(kernel_size=2)\n",
    "\n",
    "        # Third convolution block: input 32x250 -> output 32x250\n",
    "        self.conv3 = nn.Conv1d(32, 32, kernel_size=3, padding=1)    \n",
    "        self.bn3 = nn.BatchNorm1d(32)\n",
    "\n",
    "        # Fourth convolution block: input 32x250 -> output 64x250\n",
    "        self.conv4 = nn.Conv1d(32, 64, kernel_size=3, padding=1) \n",
    "        self.bn4 = nn.BatchNorm1d(64)\n",
    "\n",
    "        # Max Pooling: input 64x250 -> output 64x125\n",
    "        self.maxpool2 = nn.MaxPool1d(kernel_size=2)\n",
    "\n",
    "        # Fifth convolution block: input 64x125 -> output 128x125\n",
    "        self.conv5 = nn.Conv1d(64, 128, kernel_size=3, padding=1)    \n",
    "        self.bn5 = nn.BatchNorm1d(128)\n",
    "\n",
    "        # Sixth convolution block: input 128x125 -> output 128x125\n",
    "        self.conv6 = nn.Conv1d(128, 128, kernel_size=3, padding=1) \n",
    "        self.bn6 = nn.BatchNorm1d(128)\n",
    "\n",
    "        # Max Pooling: input 128x125 -> output 128x62\n",
    "        self.maxpool3 = nn.MaxPool1d(kernel_size=2)\n",
    "\n",
    "        # Seventh convolution block: input 128x62 -> output 256x62\n",
    "        self.conv7 = nn.Conv1d(128, 256, kernel_size=3, padding=1)    \n",
    "        self.bn7 = nn.BatchNorm1d(256)\n",
    "\n",
    "        # Eighth convolution block: input 256x62 -> output 256x62\n",
    "        self.conv8 = nn.Conv1d(256, 256, kernel_size=3, padding=1)\n",
    "        self.bn8 = nn.BatchNorm1d(256)\n",
    "\n",
    "        # Max Pooling: input 256x62 -> output 256x31\n",
    "        self.maxpool4 = nn.MaxPool1d(kernel_size=2)\n",
    "\n",
    "        # Global Average Pooling: input 256x31 -> output 256x1\n",
    "        self.global_avg_pool = nn.AdaptiveAvgPool1d(1)\n",
    "\n",
    "        # Fully connected layer: input 256 -> output n_classes\n",
    "        self.fc = nn.Linear(256, n_classes)\n",
    "    \n",
    "    def forward(self, x):\n",
    "        x = x.unsqueeze(1)  # Convert to [N, 1, L] for Conv1d\n",
    "\n",
    "        x = F.relu(self.bn1(self.conv1(x)))\n",
    "        x = F.relu(self.bn2(self.conv2(x)))\n",
    "        x = self.maxpool(x)\n",
    "\n",
    "        x = F.relu(self.bn3(self.conv3(x)))  \n",
    "        x = F.relu(self.bn4(self.conv4(x)))\n",
    "        x = self.maxpool2(x)\n",
    "\n",
    "        x = F.relu(self.bn5(self.conv5(x)))  \n",
    "        x = F.relu(self.bn6(self.conv6(x))) \n",
    "        x = self.maxpool3(x)\n",
    "\n",
    "        x = F.relu(self.bn7(self.conv7(x)))  \n",
    "        x = F.relu(self.bn8(self.conv8(x)))\n",
    "        x = self.maxpool4(x)\n",
    "\n",
    "        x = self.global_avg_pool(x)  # Global Average Pooling\n",
    "        x = x.view(x.size(0), -1)  # Flatten\n",
    "\n",
    "        x = self.fc(x)\n",
    "        x = F.softmax(x, dim=1)\n",
    "        \n",
    "        return x\n",
    "\n",
    "# Define the device\n",
    "device = torch.device(\"cuda\" if torch.cuda.is_available() else \"cpu\")\n",
    "\n",
    "# Create the model and move it to the device\n",
    "net = CNN().to(device)\n"
   ]
  },
  {
   "cell_type": "code",
   "execution_count": null,
   "id": "98492af3",
   "metadata": {},
   "outputs": [],
   "source": [
    "class ResNet50FineTuned(nn.Module):\n",
    "    def __init__(self, n_classes=10):\n",
    "        super(ResNet50FineTuned, self).__init__()\n",
    "        # Load pretrained ResNet50\n",
    "        self.resnet50 = models.resnet50(pretrained=True)\n",
    "\n",
    "        # Modify the input layer to accept 1 channel instead of 3\n",
    "        self.resnet50.conv1 = nn.Conv2d(\n",
    "            in_channels=1,  # Single channel input\n",
    "            out_channels=64,\n",
    "            kernel_size=(7, 7),\n",
    "            stride=(2, 2),\n",
    "            padding=(3, 3),\n",
    "            bias=False\n",
    "        )\n",
    "        \n",
    "        # Freeze all layers except the final FC layer\n",
    "        #for param in self.resnet50.parameters():\n",
    "            #param.requires_grad = False\n",
    "        \n",
    "        # Replace the final fully connected layer\n",
    "        self.resnet50.fc = nn.Linear(in_features=2048, out_features=n_classes)\n",
    "\n",
    "    def forward(self, x):\n",
    "        x = x.unsqueeze(1).unsqueeze(-1)  # Convert to [N, 1, 512, 1]\n",
    "        \n",
    "        # Pass through the modified ResNet50\n",
    "        x = self.resnet50(x)\n",
    "        \n",
    "        # Apply softmax for output probabilities\n",
    "        return F.softmax(x, dim=1)\n",
    "\n",
    "net = ResNet50FineTuned().to(device)"
   ]
  },
  {
   "cell_type": "code",
   "execution_count": 10,
   "id": "9e71edc1",
   "metadata": {},
   "outputs": [
    {
     "name": "stdout",
     "output_type": "stream",
     "text": [
      "Before passing to the model: torch.Size([128, 500])\n",
      "Output shape: torch.Size([128, 10])\n",
      "Network Topology:\n",
      " CNN(\n",
      "  (conv1): Conv1d(1, 16, kernel_size=(3,), stride=(1,), padding=(1,))\n",
      "  (bn1): BatchNorm1d(16, eps=1e-05, momentum=0.1, affine=True, track_running_stats=True)\n",
      "  (conv2): Conv1d(16, 32, kernel_size=(3,), stride=(1,), padding=(1,))\n",
      "  (bn2): BatchNorm1d(32, eps=1e-05, momentum=0.1, affine=True, track_running_stats=True)\n",
      "  (maxpool): MaxPool1d(kernel_size=2, stride=2, padding=0, dilation=1, ceil_mode=False)\n",
      "  (conv3): Conv1d(32, 32, kernel_size=(3,), stride=(1,), padding=(1,))\n",
      "  (bn3): BatchNorm1d(32, eps=1e-05, momentum=0.1, affine=True, track_running_stats=True)\n",
      "  (conv4): Conv1d(32, 64, kernel_size=(3,), stride=(1,), padding=(1,))\n",
      "  (bn4): BatchNorm1d(64, eps=1e-05, momentum=0.1, affine=True, track_running_stats=True)\n",
      "  (maxpool2): MaxPool1d(kernel_size=2, stride=2, padding=0, dilation=1, ceil_mode=False)\n",
      "  (conv5): Conv1d(64, 128, kernel_size=(3,), stride=(1,), padding=(1,))\n",
      "  (bn5): BatchNorm1d(128, eps=1e-05, momentum=0.1, affine=True, track_running_stats=True)\n",
      "  (conv6): Conv1d(128, 128, kernel_size=(3,), stride=(1,), padding=(1,))\n",
      "  (bn6): BatchNorm1d(128, eps=1e-05, momentum=0.1, affine=True, track_running_stats=True)\n",
      "  (maxpool3): MaxPool1d(kernel_size=2, stride=2, padding=0, dilation=1, ceil_mode=False)\n",
      "  (conv7): Conv1d(128, 256, kernel_size=(3,), stride=(1,), padding=(1,))\n",
      "  (bn7): BatchNorm1d(256, eps=1e-05, momentum=0.1, affine=True, track_running_stats=True)\n",
      "  (conv8): Conv1d(256, 256, kernel_size=(3,), stride=(1,), padding=(1,))\n",
      "  (bn8): BatchNorm1d(256, eps=1e-05, momentum=0.1, affine=True, track_running_stats=True)\n",
      "  (maxpool4): MaxPool1d(kernel_size=2, stride=2, padding=0, dilation=1, ceil_mode=False)\n",
      "  (global_avg_pool): AdaptiveAvgPool1d(output_size=1)\n",
      "  (fc): Linear(in_features=256, out_features=10, bias=True)\n",
      ")\n"
     ]
    }
   ],
   "source": [
    "\n",
    "# input_size = (batch_n, img_ch,img_width, img_height)\n",
    "input_size = (batch_size, 500)\n",
    "input = torch.randn(input_size).to(device)\n",
    "\n",
    "print(\"Before passing to the model:\", input.shape)\n",
    "\n",
    "# Create the model and pass the input\n",
    "output = net(input)\n",
    "\n",
    "print('Output shape:', output.shape)\n",
    "print('Network Topology:\\n',net)"
   ]
  },
  {
   "cell_type": "code",
   "execution_count": 11,
   "id": "862bd7a6",
   "metadata": {},
   "outputs": [
    {
     "name": "stdout",
     "output_type": "stream",
     "text": [
      "[INFO] Register count_convNd() for <class 'torch.nn.modules.conv.Conv1d'>.\n",
      "[INFO] Register count_normalization() for <class 'torch.nn.modules.batchnorm.BatchNorm1d'>.\n",
      "[INFO] Register zero_ops() for <class 'torch.nn.modules.pooling.MaxPool1d'>.\n",
      "[INFO] Register count_adap_avgpool() for <class 'torch.nn.modules.pooling.AdaptiveAvgPool1d'>.\n",
      "[INFO] Register count_linear() for <class 'torch.nn.modules.linear.Linear'>.\n",
      "Network's \tn°params: 384.746k \tMAC: 3974.947M\n",
      "\n"
     ]
    }
   ],
   "source": [
    "def network_size_and_mac(net, input_size, verbose=False):\n",
    "    # Calculate the number of parameters\n",
    "    summary_info = summary(net, input_size=input_size, verbose=verbose)\n",
    "    params = summary_info.total_params\n",
    "\n",
    "    # Calculate MACs using thop\n",
    "    from thop import profile\n",
    "    macs, _ = profile(net, inputs=(torch.randn(input_size).to(next(net.parameters()).device),))\n",
    "\n",
    "    print(\"Network's \\tn°params: %.3fk \\tMAC: %.3fM\\n\" % (params/1e3, macs/1e6))\n",
    "\n",
    "network_size_and_mac(net, input_size)\n",
    "\n"
   ]
  },
  {
   "cell_type": "code",
   "execution_count": 12,
   "id": "9a1dc30b",
   "metadata": {},
   "outputs": [],
   "source": [
    "def calculate_accuracy(best_guesses, targets):\n",
    "    # Calculate the number of correct predictions\n",
    "    num_correct = (best_guesses == targets).sum().item()\n",
    "    \n",
    "    # Calculate the total number of predictions\n",
    "    total_guesses = targets.size(0)\n",
    "    \n",
    "    # Calculate the accuracy as a percentage\n",
    "    correct_percentage = num_correct / total_guesses\n",
    "    \n",
    "    return correct_percentage"
   ]
  },
  {
   "cell_type": "code",
   "execution_count": 13,
   "id": "7794d433",
   "metadata": {},
   "outputs": [],
   "source": [
    "# Define loss function\n",
    "loss_function = nn.CrossEntropyLoss()\n"
   ]
  },
  {
   "cell_type": "code",
   "execution_count": 14,
   "id": "6f4316f0",
   "metadata": {},
   "outputs": [],
   "source": [
    "def validate(net, val_loader, loss_function, accuracy_score):\n",
    "    val_losses = []\n",
    "    val_accuracy = []\n",
    "    \n",
    "    # Set net to evaluation mode\n",
    "    net.eval()\n",
    "    with torch.no_grad():\n",
    "        for batch_idx, data in enumerate(val_loader):\n",
    "            inputs, labels = data[0].to(device), data[1].to(device)\n",
    "\n",
    "            # Forward pass: get predictions from the network\n",
    "            outputs = net(inputs)\n",
    "\n",
    "            # Calculate loss\n",
    "            loss = loss_function(outputs, labels)\n",
    "            val_losses.append(loss.item())  # Append current loss to a buffer variable for plotting learning curve\n",
    "\n",
    "            # Calculate validation accuracy\n",
    "            predicted_classes = torch.max(outputs, 1)[1]  # Get class from network's prediction\n",
    "            val_accuracy.append(calculate_accuracy(predicted_classes.cpu(), labels.cpu())) \n",
    "            # val_accuracy.append(calculate_metric(accuracy_score, labels.cpu(), predicted_classes.cpu())) # This is the same accuracy calculated with scikit-learn\n",
    "            \n",
    "    average_val_loss = sum(val_losses) / (batch_idx + 1)\n",
    "    return val_accuracy, average_val_loss\n"
   ]
  },
  {
   "cell_type": "code",
   "execution_count": 15,
   "id": "348a908c",
   "metadata": {},
   "outputs": [
    {
     "name": "stdout",
     "output_type": "stream",
     "text": [
      "Accuracy: 0.10\n"
     ]
    }
   ],
   "source": [
    "val_accuracy, average_val_loss = validate(net, test_loader, loss_function, accuracy_score)\n",
    "print('Accuracy: %0.2f'% (sum(val_accuracy)/len(val_accuracy)))"
   ]
  },
  {
   "cell_type": "code",
   "execution_count": 16,
   "id": "da992ce3",
   "metadata": {},
   "outputs": [
    {
     "name": "stdout",
     "output_type": "stream",
     "text": [
      "Dataset split sizes - Train: 56089, Validation: 12019, Test: 12020\n",
      "Number of training batches: 439\n",
      "Number of validation batches: 94\n",
      "Number of test batches: 94\n"
     ]
    }
   ],
   "source": [
    "epochs = 50\n",
    "batch_size = 128\n",
    "\n",
    "# Move net to gpu:\n",
    "net.to(device)\n",
    "\n",
    "# Create lists to store training history\n",
    "train_loss_history = []\n",
    "train_accuracy_history = []\n",
    "# Create lists to store validation history\n",
    "val_loss_history = []\n",
    "val_accuracy_history = []\n",
    "\n",
    "# Build Dataloaders\n",
    "train_loader, val_loader, test_loader = get_data_loaders(custom_dataset, batch_size, batch_size, batch_size)\n",
    "\n",
    "def training(net, train_loader, val_loader, loss_function, epochs):    \n",
    "    # Define optimizer\n",
    "    optimizer = optim.Adam(net.parameters())\n",
    "\n",
    "    # Count total batches\n",
    "    tot_train_batches = len(train_loader)\n",
    "    tot_val_batches = len(val_loader)\n",
    "\n",
    "    start_ts = time.time()     \n",
    "\n",
    "    # ----------------- TRAINING  -------------------- #\n",
    "    # Loop for every epoch (training + evaluation)\n",
    "    for epoch in range(epochs):\n",
    "        total_epoch_loss = 0\n",
    "        train_accuracy = []\n",
    "\n",
    "        net.train() # Set model to training mode\n",
    "        # Loop for every batch of images in the dataset\n",
    "        for batch_idx, data in enumerate(train_loader):\n",
    "            inputs, labels = data[0].to(device), data[1].to(device)\n",
    "            \n",
    "            # Compute prediction (forward pass)\n",
    "            outputs = net(inputs)\n",
    "            # Compute prediction error with the loss function\n",
    "            loss = loss_function(outputs, labels)\n",
    "            # Gradients to zero for every batch of data\n",
    "            optimizer.zero_grad()\n",
    "            # Backpropagation\n",
    "            loss.backward()\n",
    "            # Optimizer step\n",
    "            optimizer.step()\n",
    "            \n",
    "            # Getting training quality data\n",
    "            current_loss = loss.item()\n",
    "\n",
    "            # Compute average loss\n",
    "            total_epoch_loss += current_loss\n",
    "            average_train_loss = total_epoch_loss / (batch_idx + 1)\n",
    "            \n",
    "            # Calculate training accuracy\n",
    "            predicted_classes = torch.max(outputs, 1)[1] # Get class from network's prediction\n",
    "            train_accuracy.append(calculate_accuracy(predicted_classes.cpu(), labels.cpu())) \n",
    "\n",
    "            average_train_accuracy = sum(train_accuracy) / (batch_idx + 1)\n",
    "            \n",
    "\n",
    "        # ----------------- VALIDATION  ----------------- #\n",
    "        val_accuracy, val_loss = validate(net, val_loader, loss_function, calculate_accuracy)\n",
    "\n",
    "        # Compute mean accuracy\n",
    "        average_train_accuracy = sum(train_accuracy) / tot_train_batches\n",
    "        average_val_accuracy = sum(val_accuracy) / tot_val_batches\n",
    "\n",
    "        # Print training/validation Accuracy and Loss\n",
    "        print('Epoch %d/%d' % (epoch + 1, epochs), 'Training loss:  %.4f' % (average_train_loss), 'Accuracy: %.4f' % (average_train_accuracy))\n",
    "        print('Validation Loss: %.4f' % (val_loss), 'Accuracy: %.4f' % (average_val_accuracy))\n",
    "\n",
    "        # Append current average training loss to a buffer variable, for plotting learning curve later\n",
    "        train_loss_history.append(float(average_train_loss))\n",
    "        val_loss_history.append(float(val_loss))\n",
    "        train_accuracy_history.append(float(average_train_accuracy))\n",
    "        val_accuracy_history.append(float(average_val_accuracy))\n",
    "\n",
    "    print('Training time: %.1f seconds' % (time.time() - start_ts)) \n",
    "\n",
    "    return train_loss_history, train_accuracy_history, val_loss_history, val_accuracy_history\n"
   ]
  },
  {
   "cell_type": "code",
   "execution_count": 17,
   "id": "049bf452",
   "metadata": {
    "scrolled": false
   },
   "outputs": [
    {
     "name": "stdout",
     "output_type": "stream",
     "text": [
      "Epoch 1/50 Training loss:  2.1034 Accuracy: 0.3607\n",
      "Validation Loss: 2.0711 Accuracy: 0.3873\n",
      "Epoch 2/50 Training loss:  1.9632 Accuracy: 0.5167\n",
      "Validation Loss: 2.1148 Accuracy: 0.3307\n",
      "Epoch 3/50 Training loss:  1.9078 Accuracy: 0.5728\n",
      "Validation Loss: 1.9154 Accuracy: 0.5516\n",
      "Epoch 4/50 Training loss:  1.8651 Accuracy: 0.6178\n",
      "Validation Loss: 1.9197 Accuracy: 0.5477\n",
      "Epoch 5/50 Training loss:  1.8214 Accuracy: 0.6629\n",
      "Validation Loss: 1.9293 Accuracy: 0.5358\n",
      "Epoch 6/50 Training loss:  1.7925 Accuracy: 0.6915\n",
      "Validation Loss: 1.8161 Accuracy: 0.6581\n",
      "Epoch 7/50 Training loss:  1.7462 Accuracy: 0.7387\n",
      "Validation Loss: 1.8113 Accuracy: 0.6596\n",
      "Epoch 8/50 Training loss:  1.7133 Accuracy: 0.7701\n",
      "Validation Loss: 1.8134 Accuracy: 0.6565\n",
      "Epoch 9/50 Training loss:  1.6750 Accuracy: 0.8071\n",
      "Validation Loss: 1.8184 Accuracy: 0.6496\n",
      "Epoch 10/50 Training loss:  1.6415 Accuracy: 0.8402\n",
      "Validation Loss: 1.8837 Accuracy: 0.5782\n",
      "Epoch 11/50 Training loss:  1.6082 Accuracy: 0.8713\n",
      "Validation Loss: 1.7472 Accuracy: 0.7248\n",
      "Epoch 12/50 Training loss:  1.5891 Accuracy: 0.8885\n",
      "Validation Loss: 1.7388 Accuracy: 0.7277\n",
      "Epoch 13/50 Training loss:  1.5679 Accuracy: 0.9083\n",
      "Validation Loss: 1.7141 Accuracy: 0.7531\n",
      "Epoch 14/50 Training loss:  1.5525 Accuracy: 0.9215\n",
      "Validation Loss: 1.6209 Accuracy: 0.8538\n",
      "Epoch 15/50 Training loss:  1.5378 Accuracy: 0.9353\n",
      "Validation Loss: 1.6222 Accuracy: 0.8517\n",
      "Epoch 16/50 Training loss:  1.5276 Accuracy: 0.9440\n",
      "Validation Loss: 1.5898 Accuracy: 0.8840\n",
      "Epoch 17/50 Training loss:  1.5218 Accuracy: 0.9490\n",
      "Validation Loss: 1.5701 Accuracy: 0.9008\n",
      "Epoch 18/50 Training loss:  1.5113 Accuracy: 0.9580\n",
      "Validation Loss: 1.5863 Accuracy: 0.8848\n",
      "Epoch 19/50 Training loss:  1.5108 Accuracy: 0.9582\n",
      "Validation Loss: 1.5965 Accuracy: 0.8727\n",
      "Epoch 20/50 Training loss:  1.5030 Accuracy: 0.9656\n",
      "Validation Loss: 1.5895 Accuracy: 0.8806\n",
      "Epoch 21/50 Training loss:  1.4992 Accuracy: 0.9686\n",
      "Validation Loss: 1.6283 Accuracy: 0.8380\n",
      "Epoch 22/50 Training loss:  1.4963 Accuracy: 0.9708\n",
      "Validation Loss: 1.6023 Accuracy: 0.8658\n",
      "Epoch 23/50 Training loss:  1.4955 Accuracy: 0.9714\n",
      "Validation Loss: 1.5583 Accuracy: 0.9085\n",
      "Epoch 24/50 Training loss:  1.4936 Accuracy: 0.9729\n",
      "Validation Loss: 1.5237 Accuracy: 0.9445\n"
     ]
    },
    {
     "ename": "KeyboardInterrupt",
     "evalue": "",
     "output_type": "error",
     "traceback": [
      "\u001b[1;31m---------------------------------------------------------------------------\u001b[0m",
      "\u001b[1;31mKeyboardInterrupt\u001b[0m                         Traceback (most recent call last)",
      "Cell \u001b[1;32mIn[17], line 6\u001b[0m\n\u001b[0;32m      1\u001b[0m epochs \u001b[38;5;241m=\u001b[39m \u001b[38;5;241m50\u001b[39m\n\u001b[0;32m      3\u001b[0m (train_loss_history,\n\u001b[0;32m      4\u001b[0m train_accuracy_history, \n\u001b[0;32m      5\u001b[0m val_loss_history, \n\u001b[1;32m----> 6\u001b[0m val_accuracy_history) \u001b[38;5;241m=\u001b[39m training(net, train_loader, val_loader, loss_function, epochs)\n",
      "Cell \u001b[1;32mIn[16], line 45\u001b[0m, in \u001b[0;36mtraining\u001b[1;34m(net, train_loader, val_loader, loss_function, epochs)\u001b[0m\n\u001b[0;32m     43\u001b[0m optimizer\u001b[38;5;241m.\u001b[39mzero_grad()\n\u001b[0;32m     44\u001b[0m \u001b[38;5;66;03m# Backpropagation\u001b[39;00m\n\u001b[1;32m---> 45\u001b[0m loss\u001b[38;5;241m.\u001b[39mbackward()\n\u001b[0;32m     46\u001b[0m \u001b[38;5;66;03m# Optimizer step\u001b[39;00m\n\u001b[0;32m     47\u001b[0m optimizer\u001b[38;5;241m.\u001b[39mstep()\n",
      "File \u001b[1;32m~\\anaconda3\\envs\\AI_pytorch\\Lib\\site-packages\\torch\\_tensor.py:521\u001b[0m, in \u001b[0;36mTensor.backward\u001b[1;34m(self, gradient, retain_graph, create_graph, inputs)\u001b[0m\n\u001b[0;32m    511\u001b[0m \u001b[38;5;28;01mif\u001b[39;00m has_torch_function_unary(\u001b[38;5;28mself\u001b[39m):\n\u001b[0;32m    512\u001b[0m     \u001b[38;5;28;01mreturn\u001b[39;00m handle_torch_function(\n\u001b[0;32m    513\u001b[0m         Tensor\u001b[38;5;241m.\u001b[39mbackward,\n\u001b[0;32m    514\u001b[0m         (\u001b[38;5;28mself\u001b[39m,),\n\u001b[1;32m   (...)\u001b[0m\n\u001b[0;32m    519\u001b[0m         inputs\u001b[38;5;241m=\u001b[39minputs,\n\u001b[0;32m    520\u001b[0m     )\n\u001b[1;32m--> 521\u001b[0m torch\u001b[38;5;241m.\u001b[39mautograd\u001b[38;5;241m.\u001b[39mbackward(\n\u001b[0;32m    522\u001b[0m     \u001b[38;5;28mself\u001b[39m, gradient, retain_graph, create_graph, inputs\u001b[38;5;241m=\u001b[39minputs\n\u001b[0;32m    523\u001b[0m )\n",
      "File \u001b[1;32m~\\anaconda3\\envs\\AI_pytorch\\Lib\\site-packages\\torch\\autograd\\__init__.py:289\u001b[0m, in \u001b[0;36mbackward\u001b[1;34m(tensors, grad_tensors, retain_graph, create_graph, grad_variables, inputs)\u001b[0m\n\u001b[0;32m    284\u001b[0m     retain_graph \u001b[38;5;241m=\u001b[39m create_graph\n\u001b[0;32m    286\u001b[0m \u001b[38;5;66;03m# The reason we repeat the same comment below is that\u001b[39;00m\n\u001b[0;32m    287\u001b[0m \u001b[38;5;66;03m# some Python versions print out the first line of a multi-line function\u001b[39;00m\n\u001b[0;32m    288\u001b[0m \u001b[38;5;66;03m# calls in the traceback and some print out the last line\u001b[39;00m\n\u001b[1;32m--> 289\u001b[0m _engine_run_backward(\n\u001b[0;32m    290\u001b[0m     tensors,\n\u001b[0;32m    291\u001b[0m     grad_tensors_,\n\u001b[0;32m    292\u001b[0m     retain_graph,\n\u001b[0;32m    293\u001b[0m     create_graph,\n\u001b[0;32m    294\u001b[0m     inputs,\n\u001b[0;32m    295\u001b[0m     allow_unreachable\u001b[38;5;241m=\u001b[39m\u001b[38;5;28;01mTrue\u001b[39;00m,\n\u001b[0;32m    296\u001b[0m     accumulate_grad\u001b[38;5;241m=\u001b[39m\u001b[38;5;28;01mTrue\u001b[39;00m,\n\u001b[0;32m    297\u001b[0m )\n",
      "File \u001b[1;32m~\\anaconda3\\envs\\AI_pytorch\\Lib\\site-packages\\torch\\autograd\\graph.py:769\u001b[0m, in \u001b[0;36m_engine_run_backward\u001b[1;34m(t_outputs, *args, **kwargs)\u001b[0m\n\u001b[0;32m    767\u001b[0m     unregister_hooks \u001b[38;5;241m=\u001b[39m _register_logging_hooks_on_whole_graph(t_outputs)\n\u001b[0;32m    768\u001b[0m \u001b[38;5;28;01mtry\u001b[39;00m:\n\u001b[1;32m--> 769\u001b[0m     \u001b[38;5;28;01mreturn\u001b[39;00m Variable\u001b[38;5;241m.\u001b[39m_execution_engine\u001b[38;5;241m.\u001b[39mrun_backward(  \u001b[38;5;66;03m# Calls into the C++ engine to run the backward pass\u001b[39;00m\n\u001b[0;32m    770\u001b[0m         t_outputs, \u001b[38;5;241m*\u001b[39margs, \u001b[38;5;241m*\u001b[39m\u001b[38;5;241m*\u001b[39mkwargs\n\u001b[0;32m    771\u001b[0m     )  \u001b[38;5;66;03m# Calls into the C++ engine to run the backward pass\u001b[39;00m\n\u001b[0;32m    772\u001b[0m \u001b[38;5;28;01mfinally\u001b[39;00m:\n\u001b[0;32m    773\u001b[0m     \u001b[38;5;28;01mif\u001b[39;00m attach_logging_hooks:\n",
      "\u001b[1;31mKeyboardInterrupt\u001b[0m: "
     ]
    }
   ],
   "source": [
    "epochs = 50\n",
    "\n",
    "(train_loss_history,\n",
    "train_accuracy_history, \n",
    "val_loss_history, \n",
    "val_accuracy_history) = training(net, train_loader, val_loader, loss_function, epochs)"
   ]
  },
  {
   "cell_type": "code",
   "execution_count": 18,
   "id": "dc837c3a",
   "metadata": {},
   "outputs": [
    {
     "data": {
      "image/png": "[encoded data removed]",
      "text/plain": [
       "<Figure size 640x480 with 1 Axes>"
      ]
     },
     "metadata": {},
     "output_type": "display_data"
    },
    {
     "data": {
      "image/png": "[encoded data removed]",
      "text/plain": [
       "<Figure size 640x480 with 1 Axes>"
      ]
     },
     "metadata": {},
     "output_type": "display_data"
    }
   ],
   "source": [
    "# Plot training/validation loss\n",
    "plt.plot(train_loss_history, label=\"Training Loss\")\n",
    "plt.plot(val_loss_history, label=\"Validation Loss\")\n",
    "plt.xlabel('No. of Epochs')\n",
    "plt.ylabel('Loss')\n",
    "plt.legend(frameon=False)\n",
    "plt.show()\n",
    "\n",
    "# Plot training/validation accuracy\n",
    "plt.plot(train_accuracy_history, label=\"Training Accuracy\")\n",
    "plt.plot(val_accuracy_history, label=\"Validation Accuracy\")\n",
    "plt.xlabel('No. of Epochs')\n",
    "plt.ylabel('Accuracy')\n",
    "plt.ylim([0., 1.]) # Limit y axis between 0 and 1\n",
    "plt.legend(frameon=False)\n",
    "plt.show()\n"
   ]
  },
  {
   "cell_type": "code",
   "execution_count": 19,
   "id": "78f6983a",
   "metadata": {},
   "outputs": [
    {
     "name": "stdout",
     "output_type": "stream",
     "text": [
      "Accuracy: 0.93\n"
     ]
    }
   ],
   "source": [
    "test_accuracy, average_test_loss = validate(net, test_loader, loss_function, accuracy_score)\n",
    "print('Accuracy: %0.2f'% (sum(test_accuracy)/len(test_accuracy)))"
   ]
  },
  {
   "cell_type": "code",
   "execution_count": null,
   "id": "a6d9fa96",
   "metadata": {},
   "outputs": [],
   "source": [
    "model_export_path = \"./SI_model/\"\n",
    "model_name = 'timeseries_multiclass_CNN.pth'\n",
    "os.makedirs(model_export_path, exist_ok=True)\n",
    "\n",
    "#Save Pytorch model\n",
    "def save_net(net, model_path, model_name):\n",
    "    # Save PyTorch model\n",
    "    model_full_path = os.path.join(model_path, model_name)\n",
    "    torch.save(net.state_dict(), model_full_path)\n",
    "    print(f'Model saved to {model_full_path}')\n",
    "\n",
    "# Example usage\n",
    "save_net(net, model_export_path, model_name)"
   ]
  },
  {
   "cell_type": "code",
   "execution_count": null,
   "id": "f2f90d42",
   "metadata": {},
   "outputs": [],
   "source": []
  }
 ],
 "metadata": {
  "kernelspec": {
   "display_name": "Python 3 (ipykernel)",
   "language": "python",
   "name": "python3"
  },
  "language_info": {
   "codemirror_mode": {
    "name": "ipython",
    "version": 3
   },
   "file_extension": ".py",
   "mimetype": "text/x-python",
   "name": "python",
   "nbconvert_exporter": "python",
   "pygments_lexer": "ipython3",
   "version": "3.12.3"
  }
 },
 "nbformat": 4,
 "nbformat_minor": 5
}
