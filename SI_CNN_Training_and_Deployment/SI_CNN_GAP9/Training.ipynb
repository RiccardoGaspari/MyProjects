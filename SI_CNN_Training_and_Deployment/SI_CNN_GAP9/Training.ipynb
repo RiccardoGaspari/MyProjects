{
 "cells": [
  {
   "cell_type": "code",
   "execution_count": null,
   "id": "82eabcb4-5120-49dd-a4ce-733d7f26ff64",
   "metadata": {},
   "outputs": [],
   "source": [
    "import torch\n",
    "import torch.nn as nn\n",
    "import torch.nn.functional as F\n",
    "import torch.optim as optim\n",
    "from torchvision import datasets, transforms\n",
    "from torch.optim.lr_scheduler import StepLR\n",
    "import numpy as np\n",
    "\n",
    "torch.manual_seed(1234)"
   ]
  },
  {
   "cell_type": "code",
   "execution_count": null,
   "id": "9426259d-6553-48c3-be80-d6fd05cd2b9d",
   "metadata": {},
   "outputs": [],
   "source": [
    "class Net(nn.Module):\n",
    "    def __init__(self):\n",
    "        super(Net, self).__init__()\n",
    "        self.conv1 = nn.Conv2d(1, 32, 3, 1)\n",
    "        self.act1 = nn.ReLU(inplace=True)\n",
    "        self.conv2 = nn.Conv2d(32, 64, 3, 1)\n",
    "        self.maxpool2 = nn.MaxPool2d(2, 2)\n",
    "        self.act2 = nn.ReLU(inplace=True)\n",
    "        self.conv3 = nn.Conv2d(64, 64, 3, 2)\n",
    "        self.act3 = nn.ReLU(inplace=True)\n",
    "        self.fc4 = nn.Linear(1600, 10)\n",
    "\n",
    "    def forward(self, x):\n",
    "        x = self.act1(self.conv1(x))\n",
    "        x = self.act2(self.maxpool2(self.conv2(x)))\n",
    "        x = self.act3(self.conv3(x))\n",
    "        x = torch.flatten(x, 1)\n",
    "        x = self.fc4(x)\n",
    "        return x\n"
   ]
  },
  {
   "cell_type": "code",
   "execution_count": null,
   "id": "04e6c209-41a3-47a1-923b-d8388461fdfc",
   "metadata": {},
   "outputs": [],
   "source": [
    "def train(model, device, train_loader, criterion, optimizer, epoch):\n",
    "    model.train()\n",
    "    correct = 0\n",
    "    count = 0\n",
    "    for batch_idx, (data, target) in enumerate(train_loader):\n",
    "        data, target = data.to(device), target.to(device)\n",
    "        optimizer.zero_grad()\n",
    "        output = model(data)\n",
    "        loss = criterion(output, target)\n",
    "        loss.backward()\n",
    "        optimizer.step()\n",
    "\n",
    "        pred = output.argmax(dim=1, keepdim=True)  # get the index of the max log-probability\n",
    "        correct += pred.eq(target.view_as(pred)).sum().item()\n",
    "        count += data.size(0)\n",
    "\n",
    "        if batch_idx % 10 == 0:\n",
    "            print(f'Train Epoch: {epoch} [{batch_idx * len(data)}/{len(train_loader.dataset)} ({100. * batch_idx / len(train_loader):.0f}%)]\\tLoss: {loss.item():.6f}\\tAcc: {100. * correct / count}')\n",
    "\n",
    "def test(model, device, test_loader, criterion):\n",
    "    model.eval()\n",
    "    test_loss = 0\n",
    "    correct = 0\n",
    "    with torch.no_grad():\n",
    "        for data, target in test_loader:\n",
    "            data, target = data.to(device), target.to(device)\n",
    "            output = model(data)\n",
    "            test_loss += criterion(output, target).item()\n",
    "            pred = output.argmax(dim=1, keepdim=True)  # get the index of the max log-probability\n",
    "            correct += pred.eq(target.view_as(pred)).sum().item()\n",
    "\n",
    "    test_loss /= len(test_loader.dataset)\n",
    "\n",
    "    print('\\nTest set: Average loss: {:.4f}, Accuracy: {}/{} ({:.0f}%)\\n'.format(\n",
    "        test_loss, correct, len(test_loader.dataset),\n",
    "        100. * correct / len(test_loader.dataset)))"
   ]
  },
  {
   "cell_type": "code",
   "execution_count": null,
   "id": "70036ed1-1334-476c-a73a-2a5bff679e20",
   "metadata": {},
   "outputs": [],
   "source": [
    "use_cuda = torch.cuda.is_available()\n",
    "use_mps = torch.backends.mps.is_available()\n",
    "\n",
    "if use_cuda:\n",
    "    device = torch.device(\"cuda\")\n",
    "elif use_mps:\n",
    "    device = torch.device(\"mps\")\n",
    "else:\n",
    "    device = torch.device(\"cpu\")\n"
   ]
  },
  {
   "cell_type": "code",
   "execution_count": null,
   "id": "36f3fb21-dc79-44c5-b683-34f67eb3cb83",
   "metadata": {},
   "outputs": [],
   "source": [
    "train_kwargs = {'batch_size': 128}\n",
    "test_kwargs = {'batch_size': 128}\n",
    "if use_cuda:\n",
    "    cuda_kwargs = {'num_workers': 1,\n",
    "                   'pin_memory': True,\n",
    "                   'shuffle': True}\n",
    "    train_kwargs.update(cuda_kwargs)\n",
    "    test_kwargs.update(cuda_kwargs)\n",
    "\n",
    "\n",
    "transform=transforms.Compose([\n",
    "    transforms.ToTensor(),\n",
    "    transforms.Normalize((0.5,), (0.5,))\n",
    "    ])\n",
    "dataset1 = datasets.MNIST('dataset', train=True, download=True,\n",
    "                   transform=transform)\n",
    "dataset2 = datasets.MNIST('dataset', train=False,\n",
    "                   transform=transform)\n",
    "train_loader = torch.utils.data.DataLoader(dataset1,**train_kwargs)\n",
    "test_loader = torch.utils.data.DataLoader(dataset2, **test_kwargs)\n",
    "\n",
    "model = Net().to(device)\n",
    "optimizer = optim.Adadelta(model.parameters(), lr=1.0)\n",
    "criterion = nn.CrossEntropyLoss()\n",
    "\n",
    "scheduler = StepLR(optimizer, step_size=1)\n"
   ]
  },
  {
   "cell_type": "code",
   "execution_count": null,
   "id": "f56cbdb6-2d9f-4c25-916d-3587b635352b",
   "metadata": {},
   "outputs": [],
   "source": [
    "n_epochs = 2\n",
    "for epoch in range(1, n_epochs + 1):\n",
    "    train(model, device, train_loader, criterion, optimizer, epoch)\n",
    "    test(model, device, test_loader, criterion)\n",
    "    scheduler.step()"
   ]
  },
  {
   "cell_type": "code",
   "execution_count": null,
   "id": "96e92e34-bc64-4660-aae8-0e8e12966d5e",
   "metadata": {},
   "outputs": [],
   "source": [
    "dummy_input = torch.zeros(1, 1, 28, 28)\n",
    "torch.onnx.export(model, dummy_input, \"mnist.onnx\")"
   ]
  },
  {
   "cell_type": "code",
   "execution_count": null,
   "id": "2e6454d3-358b-47df-80ec-7a02e4ee7392",
   "metadata": {},
   "outputs": [],
   "source": [
    "# Save some training samples\n",
    "train_dataset = datasets.MNIST('dataset', train=True)\n",
    "test_dataset = datasets.MNIST('dataset', train=False)\n",
    "\n",
    "N_CAL = 50\n",
    "N_TEST = 1000\n",
    "\n",
    "for idx, (img, target) in enumerate(train_dataset):\n",
    "    if idx >= N_CAL:\n",
    "        break\n",
    "    img.save(f'samples/calibration/train_{idx:05d}_{target}.jpg')\n",
    "\n",
    "for idx, (img, target) in enumerate(test_dataset):\n",
    "    if idx >= N_TEST:\n",
    "        break\n",
    "    img.save(f'samples/test/test_{idx:05d}_{target}.jpg')"
   ]
  },
  {
   "cell_type": "code",
   "execution_count": null,
   "id": "e72c9b53-b2e3-4356-9508-496f3a803073",
   "metadata": {},
   "outputs": [],
   "source": []
  }
 ],
 "metadata": {
  "kernelspec": {
   "display_name": "Python 3 (ipykernel)",
   "language": "python",
   "name": "python3"
  },
  "language_info": {
   "codemirror_mode": {
    "name": "ipython",
    "version": 3
   },
   "file_extension": ".py",
   "mimetype": "text/x-python",
   "name": "python",
   "nbconvert_exporter": "python",
   "pygments_lexer": "ipython3",
   "version": "3.8.13"
  }
 },
 "nbformat": 4,
 "nbformat_minor": 5
}
